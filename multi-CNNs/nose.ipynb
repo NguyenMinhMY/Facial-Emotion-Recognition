{
  "nbformat": 4,
  "nbformat_minor": 0,
  "metadata": {
    "colab": {
      "provenance": []
    },
    "kernelspec": {
      "name": "python3",
      "display_name": "Python 3"
    },
    "language_info": {
      "name": "python"
    },
    "gpuClass": "standard",
    "accelerator": "GPU"
  },
  "cells": [
    {
      "cell_type": "code",
      "execution_count": null,
      "metadata": {
        "id": "5YDm10AvQ_qT",
        "colab": {
          "base_uri": "https://localhost:8080/"
        },
        "outputId": "55d932bb-d34e-4400-e509-92837daf8f5a"
      },
      "outputs": [
        {
          "output_type": "stream",
          "name": "stdout",
          "text": [
            "Mounted at /content/drive\n"
          ]
        }
      ],
      "source": [
        "from google.colab import drive\n",
        "drive.mount('/content/drive',force_remount=True)"
      ]
    },
    {
      "cell_type": "code",
      "source": [
        "%cd '/content/drive/MyDrive/Colab Notebooks'"
      ],
      "metadata": {
        "colab": {
          "base_uri": "https://localhost:8080/"
        },
        "id": "pQFZi-rYSjS5",
        "outputId": "e5ca36b3-cf6c-4a89-9c63-46bfe69cf364"
      },
      "execution_count": null,
      "outputs": [
        {
          "output_type": "stream",
          "name": "stdout",
          "text": [
            "/content/drive/MyDrive/Colab Notebooks\n"
          ]
        }
      ]
    },
    {
      "cell_type": "code",
      "source": [
        "import torch\n",
        "import torch.nn as nn\n",
        "import numpy as np\n",
        "import matplotlib.pyplot as plt\n",
        "from preparing import ImageGenerator, train, test"
      ],
      "metadata": {
        "id": "YZdouyMdZ1u8"
      },
      "execution_count": null,
      "outputs": []
    },
    {
      "cell_type": "code",
      "source": [
        "device = torch.device(\"cuda:0\" if torch.cuda.is_available() else \"cpu\")\n",
        "batch_size = 64\n",
        "max_dimension = 512\n",
        "n_classes = 7"
      ],
      "metadata": {
        "id": "R6Kq5TaXZ5QF"
      },
      "execution_count": null,
      "outputs": []
    },
    {
      "cell_type": "code",
      "source": [
        "model = nn.Sequential(\n",
        "            nn.Conv2d(3, 32, kernel_size=3, stride=2, padding=1),\n",
        "            nn.ReLU(),\n",
        "            nn.Conv2d(32, 64, kernel_size=3, stride=2, padding=1),\n",
        "            nn.ReLU(),\n",
        "            nn.MaxPool2d(2, 2),\n",
        "            nn.BatchNorm2d(64),\n",
        " \n",
        "            nn.Conv2d(64, 128, kernel_size=3, stride=2, padding=1),\n",
        "            nn.ReLU(),\n",
        "            # nn.Conv2d(64, , kernel_size=3, stride=1, padding=1),\n",
        "            # nn.ReLU(),\n",
        "            nn.MaxPool2d(2, 2),\n",
        "            nn.BatchNorm2d(128),\n",
        " \n",
        "            nn.Conv2d(128, 128, kernel_size=3, stride=1, padding=1),\n",
        "            nn.ReLU(),\n",
        "            nn.Conv2d(128, 256, kernel_size=3, stride=1, padding=1),\n",
        "            nn.ReLU(),\n",
        "            nn.MaxPool2d(2, 2), \n",
        "            nn.BatchNorm2d(256),\n",
        "             \n",
        "            nn.AdaptiveAvgPool2d((2,2)),\n",
        "\n",
        "            \n",
        "            nn.Flatten(), \n",
        "            nn.Linear(256*2*2, 128),\n",
        "            nn.ReLU(),\n",
        "            nn.Linear(128, n_classes),\n",
        "            nn.Softmax()).to(device)"
      ],
      "metadata": {
        "id": "BKrIq8SuZ9L9"
      },
      "execution_count": null,
      "outputs": []
    },
    {
      "cell_type": "code",
      "source": [
        "\n",
        "loss_fn=nn.CrossEntropyLoss()\n",
        "optimizer= torch.optim.Adam(model.parameters(),lr=0.001,weight_decay = 0.0005)"
      ],
      "metadata": {
        "id": "F1O6mFo0Z_jt"
      },
      "execution_count": null,
      "outputs": []
    },
    {
      "cell_type": "code",
      "source": [
        "train_image_directory = 'Data/parts_train/nose'\n",
        "valid_image_directory = 'Data/parts_val/nose'\n",
        "train_loader = ImageGenerator(train_image_directory, batch_size=batch_size, shuffle=True, max_dimension=max_dimension)\n",
        "valid_loader = ImageGenerator(valid_image_directory, batch_size=batch_size, max_dimension=max_dimension)"
      ],
      "metadata": {
        "id": "oe59ERMjaEy9"
      },
      "execution_count": null,
      "outputs": []
    },
    {
      "cell_type": "code",
      "source": [
        "epochs=20\n",
        "path_to_save = 'nose.pth'\n",
        "train_losses, train_accurs, valid_losses, valid_accurs = train(epochs,model,\n",
        "                                                               train_loader, \n",
        "                                                               valid_loader,\n",
        "                                                               loss_fn, \n",
        "                                                               optimizer,\n",
        "                                                               device,\n",
        "                                                               path_to_save,\n",
        "                                                               patience=10)\n"
      ],
      "metadata": {
        "colab": {
          "base_uri": "https://localhost:8080/"
        },
        "id": "_JMM0lzSbLpf",
        "outputId": "92745387-3bf9-484f-cc24-f2321b717d2d"
      },
      "execution_count": null,
      "outputs": [
        {
          "output_type": "stream",
          "name": "stdout",
          "text": [
            "--------------------\n",
            "Epoch 1/20\n"
          ]
        },
        {
          "output_type": "stream",
          "name": "stderr",
          "text": [
            "\r  0%|          | 0/307 [00:00<?, ?it/s]/usr/local/lib/python3.8/dist-packages/torch/nn/modules/container.py:204: UserWarning: Implicit dimension choice for softmax has been deprecated. Change the call to include dim=X as an argument.\n",
            "  input = module(input)\n",
            "100%|██████████| 307/307 [2:21:06<00:00, 27.58s/it]\n",
            "100%|██████████| 39/39 [20:42<00:00, 31.87s/it]\n"
          ]
        },
        {
          "output_type": "stream",
          "name": "stdout",
          "text": [
            "Loss: 1.864 | Accuracy: 28.641\n",
            "Train Loss: 2.262 | Train Accuracy: 30.374 -- Valid Loss: 1.864 | Accuracy: 28.641\n",
            "--------------------\n",
            "Epoch 2/20\n"
          ]
        },
        {
          "output_type": "stream",
          "name": "stderr",
          "text": [
            "100%|██████████| 307/307 [00:47<00:00,  6.47it/s]\n",
            "100%|██████████| 39/39 [00:05<00:00,  7.62it/s]\n"
          ]
        },
        {
          "output_type": "stream",
          "name": "stdout",
          "text": [
            "Loss: 1.876 | Accuracy: 27.380\n",
            "Train Loss: 2.027 | Train Accuracy: 31.230 -- Valid Loss: 1.876 | Accuracy: 27.380\n",
            "Valid accuracy does not improve!!!\n",
            "--------------------\n",
            "Epoch 3/20\n"
          ]
        },
        {
          "output_type": "stream",
          "name": "stderr",
          "text": [
            "100%|██████████| 307/307 [00:47<00:00,  6.50it/s]\n",
            "100%|██████████| 39/39 [00:05<00:00,  7.62it/s]\n"
          ]
        },
        {
          "output_type": "stream",
          "name": "stdout",
          "text": [
            "Loss: 1.887 | Accuracy: 24.573\n",
            "Train Loss: 1.931 | Train Accuracy: 31.271 -- Valid Loss: 1.887 | Accuracy: 24.573\n",
            "Valid accuracy does not improve!!!\n",
            "--------------------\n",
            "Epoch 4/20\n"
          ]
        },
        {
          "output_type": "stream",
          "name": "stderr",
          "text": [
            "100%|██████████| 307/307 [00:47<00:00,  6.49it/s]\n",
            "100%|██████████| 39/39 [00:05<00:00,  7.44it/s]\n"
          ]
        },
        {
          "output_type": "stream",
          "name": "stdout",
          "text": [
            "Loss: 1.856 | Accuracy: 30.228\n",
            "Train Loss: 1.885 | Train Accuracy: 31.429 -- Valid Loss: 1.856 | Accuracy: 30.228\n",
            "--------------------\n",
            "Epoch 5/20\n"
          ]
        },
        {
          "output_type": "stream",
          "name": "stderr",
          "text": [
            "100%|██████████| 307/307 [00:47<00:00,  6.44it/s]\n",
            "100%|██████████| 39/39 [00:05<00:00,  7.56it/s]\n"
          ]
        },
        {
          "output_type": "stream",
          "name": "stdout",
          "text": [
            "Loss: 1.852 | Accuracy: 30.269\n",
            "Train Loss: 1.864 | Train Accuracy: 32.030 -- Valid Loss: 1.852 | Accuracy: 30.269\n",
            "--------------------\n",
            "Epoch 6/20\n"
          ]
        },
        {
          "output_type": "stream",
          "name": "stderr",
          "text": [
            "100%|██████████| 307/307 [00:47<00:00,  6.45it/s]\n",
            "100%|██████████| 39/39 [00:05<00:00,  7.55it/s]\n"
          ]
        },
        {
          "output_type": "stream",
          "name": "stdout",
          "text": [
            "Loss: 1.835 | Accuracy: 31.367\n",
            "Train Loss: 1.853 | Train Accuracy: 32.443 -- Valid Loss: 1.835 | Accuracy: 31.367\n",
            "--------------------\n",
            "Epoch 7/20\n"
          ]
        },
        {
          "output_type": "stream",
          "name": "stderr",
          "text": [
            "100%|██████████| 307/307 [00:47<00:00,  6.49it/s]\n",
            "100%|██████████| 39/39 [00:05<00:00,  7.58it/s]\n"
          ]
        },
        {
          "output_type": "stream",
          "name": "stdout",
          "text": [
            "Loss: 1.842 | Accuracy: 30.797\n",
            "Train Loss: 1.848 | Train Accuracy: 32.744 -- Valid Loss: 1.842 | Accuracy: 30.797\n",
            "Valid accuracy does not improve!!!\n",
            "--------------------\n",
            "Epoch 8/20\n"
          ]
        },
        {
          "output_type": "stream",
          "name": "stderr",
          "text": [
            "100%|██████████| 307/307 [00:47<00:00,  6.51it/s]\n",
            "100%|██████████| 39/39 [00:05<00:00,  7.60it/s]\n"
          ]
        },
        {
          "output_type": "stream",
          "name": "stdout",
          "text": [
            "Loss: 1.852 | Accuracy: 28.885\n",
            "Train Loss: 1.841 | Train Accuracy: 33.437 -- Valid Loss: 1.852 | Accuracy: 28.885\n",
            "Valid accuracy does not improve!!!\n",
            "--------------------\n",
            "Epoch 9/20\n"
          ]
        },
        {
          "output_type": "stream",
          "name": "stderr",
          "text": [
            "100%|██████████| 307/307 [00:47<00:00,  6.50it/s]\n",
            "100%|██████████| 39/39 [00:05<00:00,  7.56it/s]\n"
          ]
        },
        {
          "output_type": "stream",
          "name": "stdout",
          "text": [
            "Loss: 1.821 | Accuracy: 33.401\n",
            "Train Loss: 1.837 | Train Accuracy: 33.488 -- Valid Loss: 1.821 | Accuracy: 33.401\n",
            "--------------------\n",
            "Epoch 10/20\n"
          ]
        },
        {
          "output_type": "stream",
          "name": "stderr",
          "text": [
            "100%|██████████| 307/307 [00:47<00:00,  6.49it/s]\n",
            "100%|██████████| 39/39 [00:05<00:00,  7.34it/s]\n"
          ]
        },
        {
          "output_type": "stream",
          "name": "stdout",
          "text": [
            "Loss: 1.808 | Accuracy: 35.761\n",
            "Train Loss: 1.833 | Train Accuracy: 34.191 -- Valid Loss: 1.808 | Accuracy: 35.761\n",
            "--------------------\n",
            "Epoch 11/20\n"
          ]
        },
        {
          "output_type": "stream",
          "name": "stderr",
          "text": [
            "100%|██████████| 307/307 [00:46<00:00,  6.54it/s]\n",
            "100%|██████████| 39/39 [00:05<00:00,  7.72it/s]\n"
          ]
        },
        {
          "output_type": "stream",
          "name": "stdout",
          "text": [
            "Loss: 1.819 | Accuracy: 33.279\n",
            "Train Loss: 1.835 | Train Accuracy: 34.309 -- Valid Loss: 1.819 | Accuracy: 33.279\n",
            "Valid accuracy does not improve!!!\n",
            "--------------------\n",
            "Epoch 12/20\n"
          ]
        },
        {
          "output_type": "stream",
          "name": "stderr",
          "text": [
            "100%|██████████| 307/307 [00:46<00:00,  6.61it/s]\n",
            "100%|██████████| 39/39 [00:05<00:00,  7.77it/s]\n"
          ]
        },
        {
          "output_type": "stream",
          "name": "stdout",
          "text": [
            "Loss: 1.846 | Accuracy: 30.472\n",
            "Train Loss: 1.833 | Train Accuracy: 34.181 -- Valid Loss: 1.846 | Accuracy: 30.472\n",
            "Valid accuracy does not improve!!!\n",
            "--------------------\n",
            "Epoch 13/20\n"
          ]
        },
        {
          "output_type": "stream",
          "name": "stderr",
          "text": [
            "100%|██████████| 307/307 [00:46<00:00,  6.56it/s]\n",
            "100%|██████████| 39/39 [00:05<00:00,  7.58it/s]\n"
          ]
        },
        {
          "output_type": "stream",
          "name": "stdout",
          "text": [
            "Loss: 1.822 | Accuracy: 33.360\n",
            "Train Loss: 1.830 | Train Accuracy: 34.482 -- Valid Loss: 1.822 | Accuracy: 33.360\n",
            "Valid accuracy does not improve!!!\n",
            "--------------------\n",
            "Epoch 14/20\n"
          ]
        },
        {
          "output_type": "stream",
          "name": "stderr",
          "text": [
            "100%|██████████| 307/307 [00:46<00:00,  6.57it/s]\n",
            "100%|██████████| 39/39 [00:05<00:00,  7.73it/s]\n"
          ]
        },
        {
          "output_type": "stream",
          "name": "stdout",
          "text": [
            "Loss: 1.823 | Accuracy: 33.320\n",
            "Train Loss: 1.830 | Train Accuracy: 34.314 -- Valid Loss: 1.823 | Accuracy: 33.320\n",
            "Valid accuracy does not improve!!!\n",
            "--------------------\n",
            "Epoch 15/20\n"
          ]
        },
        {
          "output_type": "stream",
          "name": "stderr",
          "text": [
            "100%|██████████| 307/307 [00:46<00:00,  6.61it/s]\n",
            "100%|██████████| 39/39 [00:05<00:00,  7.76it/s]\n"
          ]
        },
        {
          "output_type": "stream",
          "name": "stdout",
          "text": [
            "Loss: 1.828 | Accuracy: 31.570\n",
            "Train Loss: 1.829 | Train Accuracy: 34.655 -- Valid Loss: 1.828 | Accuracy: 31.570\n",
            "Valid accuracy does not improve!!!\n",
            "--------------------\n",
            "Epoch 16/20\n"
          ]
        },
        {
          "output_type": "stream",
          "name": "stderr",
          "text": [
            "100%|██████████| 307/307 [00:46<00:00,  6.59it/s]\n",
            "100%|██████████| 39/39 [00:05<00:00,  7.50it/s]"
          ]
        },
        {
          "output_type": "stream",
          "name": "stdout",
          "text": [
            "Loss: 1.821 | Accuracy: 33.198\n",
            "Train Loss: 1.826 | Train Accuracy: 34.986 -- Valid Loss: 1.821 | Accuracy: 33.198\n",
            "Valid accuracy does not improve!!!\n",
            "Training complete in 174m 53s\n",
            "Best val Acc: 35.760781\n"
          ]
        },
        {
          "output_type": "stream",
          "name": "stderr",
          "text": [
            "\n"
          ]
        }
      ]
    },
    {
      "cell_type": "code",
      "source": [
        "Train_loss = [2.262, 2.027,1.931,1.885,1.864,1.853,1.848,1.841,1.837,1.833,1.835,1.833,1.830,1.830,1.829,1.826]\n",
        "Train_acc = [30.374 ,31.230 ,31.271 ,31.429 ,32.030 ,32.443 ,32.744 ,33.437 ,33.488 ,34.191 ,34.309 ,34.181 ,34.482 ,34.314 ,34.655 ,34.986 ]\n",
        "Valid_loss = [1.864,1.876 ,1.887 ,1.856 ,1.852 ,1.835 ,1.842 ,1.852 ,1.821 ,1.808 ,1.819 ,1.846 ,1.822 ,1.823 ,1.828 ,1.821]\n",
        "Valid_acc = [28.641,27.380,24.573,30.228,30.269,31.367,30.797,28.885,33.401,35.761,33.279,30.472,33.360,33.320,31.570,33.198]\n",
        "\n",
        "\n"
      ],
      "metadata": {
        "id": "Lbf7UEnzua1G"
      },
      "execution_count": null,
      "outputs": []
    },
    {
      "cell_type": "code",
      "source": [
        "import matplotlib.pyplot as plt\n",
        "plt.plot(Train_loss, '-o')\n",
        "plt.plot(Valid_loss, '-o')\n",
        "\n",
        "plt.xlabel('epochs')\n",
        "plt.ylabel('Loss')\n",
        "plt.legend(['Train','Valid'])\n",
        "plt.title('Train and Valid Loss')\n",
        "plt.show()\n",
        "\n",
        "plt.plot(Train_acc, '-o')\n",
        "plt.plot(Valid_acc, '-o')\n",
        "\n",
        "plt.xlabel('epochs')\n",
        "plt.ylabel('Accuracy')\n",
        "plt.legend(['Train','Valid'])\n",
        "plt.title('Train and Valid Accuracy')\n",
        "plt.show()"
      ],
      "metadata": {
        "colab": {
          "base_uri": "https://localhost:8080/",
          "height": 573
        },
        "id": "-TYZ785cvplv",
        "outputId": "77d136a8-2e31-4f17-c20e-a2d50967fb48"
      },
      "execution_count": null,
      "outputs": [
        {
          "output_type": "display_data",
          "data": {
            "text/plain": [
              "<Figure size 432x288 with 1 Axes>"
            ],
            "image/png": "[encoded data removed]"
          },
          "metadata": {
            "needs_background": "light"
          }
        },
        {
          "output_type": "display_data",
          "data": {
            "text/plain": [
              "<Figure size 432x288 with 1 Axes>"
            ],
            "image/png": "[encoded data removed]"
          },
          "metadata": {
            "needs_background": "light"
          }
        }
      ]
    }
  ]
}