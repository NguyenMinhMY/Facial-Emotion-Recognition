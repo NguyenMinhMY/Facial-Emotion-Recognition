{
  "nbformat": 4,
  "nbformat_minor": 0,
  "metadata": {
    "colab": {
      "provenance": []
    },
    "kernelspec": {
      "name": "python3",
      "display_name": "Python 3"
    },
    "language_info": {
      "name": "python"
    },
    "accelerator": "GPU",
    "gpuClass": "standard"
  },
  "cells": [
    {
      "cell_type": "code",
      "source": [
        "from google.colab import drive\n",
        "drive.mount('/content/drive',force_remount=True)"
      ],
      "metadata": {
        "colab": {
          "base_uri": "https://localhost:8080/"
        },
        "id": "QAHQZg9BGVae",
        "outputId": "15618af5-000a-4f0b-d423-f4f8a80b5114"
      },
      "execution_count": null,
      "outputs": [
        {
          "output_type": "stream",
          "name": "stdout",
          "text": [
            "Mounted at /content/drive\n"
          ]
        }
      ]
    },
    {
      "cell_type": "code",
      "source": [
        "%cd '/content/drive/MyDrive/Colab Notebooks'"
      ],
      "metadata": {
        "colab": {
          "base_uri": "https://localhost:8080/"
        },
        "id": "7JcY4xfhGWyE",
        "outputId": "5fafe58d-d576-4463-b015-c80af72fe6c0"
      },
      "execution_count": null,
      "outputs": [
        {
          "output_type": "stream",
          "name": "stdout",
          "text": [
            "/content/drive/MyDrive/Colab Notebooks\n"
          ]
        }
      ]
    },
    {
      "cell_type": "code",
      "source": [
        "import torch\n",
        "import torch.nn as nn\n",
        "import numpy as np\n",
        "import matplotlib.pyplot as plt\n",
        "from preparing import ImageGenerator, train, test"
      ],
      "metadata": {
        "id": "AuuW1eKzGYG8"
      },
      "execution_count": null,
      "outputs": []
    },
    {
      "cell_type": "code",
      "source": [
        "device = torch.device(\"cuda:0\" if torch.cuda.is_available() else \"cpu\")\n",
        "batch_size = 64\n",
        "max_dimension = 512\n",
        "n_classes = 7"
      ],
      "metadata": {
        "id": "b5ZYqiWfGZcM"
      },
      "execution_count": null,
      "outputs": []
    },
    {
      "cell_type": "code",
      "execution_count": null,
      "metadata": {
        "id": "7PjpRTP3GO4J"
      },
      "outputs": [],
      "source": [
        "model = nn.Sequential(\n",
        "            nn.Conv2d(3, 64, kernel_size=3, stride=2, padding=1),\n",
        "            nn.ReLU(),\n",
        "            nn.Conv2d(64, 64, kernel_size=3, stride=2, padding=1),\n",
        "            nn.ReLU(),\n",
        "            nn.MaxPool2d(2, 2),\n",
        "            nn.BatchNorm2d(64),\n",
        " \n",
        "            nn.Conv2d(64, 128, kernel_size=3, stride=2, padding=1),\n",
        "            nn.ReLU(),\n",
        "            nn.Conv2d(128, 128 , kernel_size=3, stride=1, padding=1),\n",
        "            nn.ReLU(),\n",
        "            nn.MaxPool2d(2, 2),\n",
        "            nn.BatchNorm2d(128),\n",
        " \n",
        "            nn.Conv2d(128, 256, kernel_size=3, stride=1, padding=1),\n",
        "            nn.ReLU(),\n",
        "            nn.Conv2d(256, 256, kernel_size=3, stride=1, padding=1),\n",
        "            nn.ReLU(),\n",
        "            nn.MaxPool2d(2, 2), \n",
        "            nn.BatchNorm2d(256),\n",
        "             \n",
        "            nn.AdaptiveAvgPool2d((2,2)),\n",
        "            nn.Flatten(), \n",
        "            nn.Linear(256*2*2, 200),\n",
        "            nn.ReLU(),\n",
        "            nn.Linear(200, n_classes),\n",
        "            nn.Softmax()).to(device)"
      ]
    },
    {
      "cell_type": "code",
      "source": [
        "loss_fn=nn.CrossEntropyLoss()\n",
        "optimizer= torch.optim.Adam(model.parameters(),lr=0.0001,weight_decay = 0.00009)"
      ],
      "metadata": {
        "id": "69DhML1_Gb5s"
      },
      "execution_count": null,
      "outputs": []
    },
    {
      "cell_type": "code",
      "source": [
        "train_image_directory = 'Data/parts_train/left_eye'\n",
        "valid_image_directory = 'Data/parts_val/left_eye'\n",
        "train_loader = ImageGenerator(train_image_directory, batch_size=batch_size, shuffle=True, max_dimension=max_dimension)\n",
        "valid_loader = ImageGenerator(valid_image_directory, batch_size=batch_size, max_dimension=max_dimension)"
      ],
      "metadata": {
        "id": "coI75sZ7GfZV"
      },
      "execution_count": null,
      "outputs": []
    },
    {
      "cell_type": "code",
      "source": [
        "epochs=30\n",
        "path_to_save = 'left_eye.pth'\n",
        "train_losses, train_accurs, valid_losses, valid_accurs = train(epochs,model,\n",
        "                                                               train_loader, \n",
        "                                                               valid_loader,\n",
        "                                                               loss_fn, \n",
        "                                                               optimizer,\n",
        "                                                               device,\n",
        "                                                               path_to_save,\n",
        "                                                               patience=15)\n",
        "\n",
        "# -------------------------------------------------------------------\n",
        "plt.plot(train_losses, '-o')\n",
        "plt.plot(valid_losses, '-o')\n",
        "\n",
        "plt.xlabel('epochs')\n",
        "plt.ylabel('Loss')\n",
        "plt.legend(['Train','Valid'])\n",
        "plt.title('Train and Valid Loss')\n",
        "plt.show()\n",
        "#-------------------------------------------------------------------\n",
        "plt.plot(train_accurs, '-o')\n",
        "plt.plot(valid_accurs, '-o')\n",
        "\n",
        "plt.xlabel('epochs')\n",
        "plt.ylabel('Accuracy')\n",
        "plt.legend(['Train','Valid'])\n",
        "plt.title('Train and Valid Accuracy')\n",
        "plt.show()\n"
      ],
      "metadata": {
        "colab": {
          "base_uri": "https://localhost:8080/"
        },
        "id": "eqmxEcl7GmVn",
        "outputId": "1433a288-d263-4fa6-b88a-78ca5bd9f9b8"
      },
      "execution_count": null,
      "outputs": [
        {
          "output_type": "stream",
          "name": "stdout",
          "text": [
            "--------------------\n",
            "Epoch 1/30\n"
          ]
        },
        {
          "output_type": "stream",
          "name": "stderr",
          "text": [
            "\r  0%|          | 0/305 [00:00<?, ?it/s]/usr/local/lib/python3.8/dist-packages/torch/nn/modules/container.py:204: UserWarning: Implicit dimension choice for softmax has been deprecated. Change the call to include dim=X as an argument.\n",
            "  input = module(input)\n",
            "100%|██████████| 305/305 [45:40<00:00,  8.98s/it]\n",
            "100%|██████████| 39/39 [09:24<00:00, 14.48s/it]\n"
          ]
        },
        {
          "output_type": "stream",
          "name": "stdout",
          "text": [
            "Loss: 1.843 | Accuracy: 31.314\n",
            "Train Loss: 2.588 | Train Accuracy: 32.563 -- Valid Loss: 1.843 | Accuracy: 31.314\n",
            "--------------------\n",
            "Epoch 2/30\n"
          ]
        },
        {
          "output_type": "stream",
          "name": "stderr",
          "text": [
            "100%|██████████| 305/305 [00:51<00:00,  5.95it/s]\n",
            "100%|██████████| 39/39 [00:05<00:00,  7.25it/s]\n"
          ]
        },
        {
          "output_type": "stream",
          "name": "stdout",
          "text": [
            "Loss: 1.815 | Accuracy: 34.179\n",
            "Train Loss: 2.459 | Train Accuracy: 36.325 -- Valid Loss: 1.815 | Accuracy: 34.179\n",
            "--------------------\n",
            "Epoch 3/30\n"
          ]
        },
        {
          "output_type": "stream",
          "name": "stderr",
          "text": [
            "100%|██████████| 305/305 [00:51<00:00,  5.91it/s]\n",
            "100%|██████████| 39/39 [00:05<00:00,  7.27it/s]\n"
          ]
        },
        {
          "output_type": "stream",
          "name": "stdout",
          "text": [
            "Loss: 1.797 | Accuracy: 35.203\n",
            "Train Loss: 2.377 | Train Accuracy: 37.939 -- Valid Loss: 1.797 | Accuracy: 35.203\n",
            "--------------------\n",
            "Epoch 4/30\n"
          ]
        },
        {
          "output_type": "stream",
          "name": "stderr",
          "text": [
            "100%|██████████| 305/305 [00:51<00:00,  5.96it/s]\n",
            "100%|██████████| 39/39 [00:05<00:00,  7.18it/s]\n"
          ]
        },
        {
          "output_type": "stream",
          "name": "stdout",
          "text": [
            "Loss: 1.791 | Accuracy: 36.594\n",
            "Train Loss: 2.312 | Train Accuracy: 39.364 -- Valid Loss: 1.791 | Accuracy: 36.594\n",
            "--------------------\n",
            "Epoch 5/30\n"
          ]
        },
        {
          "output_type": "stream",
          "name": "stderr",
          "text": [
            "100%|██████████| 305/305 [00:51<00:00,  5.93it/s]\n",
            "100%|██████████| 39/39 [00:05<00:00,  7.22it/s]\n"
          ]
        },
        {
          "output_type": "stream",
          "name": "stdout",
          "text": [
            "Loss: 1.765 | Accuracy: 39.255\n",
            "Train Loss: 2.260 | Train Accuracy: 40.522 -- Valid Loss: 1.765 | Accuracy: 39.255\n",
            "--------------------\n",
            "Epoch 6/30\n"
          ]
        },
        {
          "output_type": "stream",
          "name": "stderr",
          "text": [
            "100%|██████████| 305/305 [00:51<00:00,  5.95it/s]\n",
            "100%|██████████| 39/39 [00:05<00:00,  7.32it/s]\n"
          ]
        },
        {
          "output_type": "stream",
          "name": "stdout",
          "text": [
            "Loss: 1.770 | Accuracy: 37.781\n",
            "Train Loss: 2.216 | Train Accuracy: 41.183 -- Valid Loss: 1.770 | Accuracy: 37.781\n",
            "Valid accuracy does not improve!!!\n",
            "--------------------\n",
            "Epoch 7/30\n"
          ]
        },
        {
          "output_type": "stream",
          "name": "stderr",
          "text": [
            "100%|██████████| 305/305 [00:51<00:00,  5.92it/s]\n",
            "100%|██████████| 39/39 [00:05<00:00,  7.36it/s]\n"
          ]
        },
        {
          "output_type": "stream",
          "name": "stdout",
          "text": [
            "Loss: 1.774 | Accuracy: 37.781\n",
            "Train Loss: 2.179 | Train Accuracy: 41.921 -- Valid Loss: 1.774 | Accuracy: 37.781\n",
            "Valid accuracy does not improve!!!\n",
            "--------------------\n",
            "Epoch 8/30\n"
          ]
        },
        {
          "output_type": "stream",
          "name": "stderr",
          "text": [
            "100%|██████████| 305/305 [00:51<00:00,  5.97it/s]\n",
            "100%|██████████| 39/39 [00:05<00:00,  7.33it/s]\n"
          ]
        },
        {
          "output_type": "stream",
          "name": "stdout",
          "text": [
            "Loss: 1.765 | Accuracy: 39.705\n",
            "Train Loss: 2.144 | Train Accuracy: 42.618 -- Valid Loss: 1.765 | Accuracy: 39.705\n",
            "--------------------\n",
            "Epoch 9/30\n"
          ]
        },
        {
          "output_type": "stream",
          "name": "stderr",
          "text": [
            "100%|██████████| 305/305 [00:51<00:00,  5.96it/s]\n",
            "100%|██████████| 39/39 [00:05<00:00,  7.52it/s]\n"
          ]
        },
        {
          "output_type": "stream",
          "name": "stdout",
          "text": [
            "Loss: 1.762 | Accuracy: 39.664\n",
            "Train Loss: 2.113 | Train Accuracy: 43.412 -- Valid Loss: 1.762 | Accuracy: 39.664\n",
            "Valid accuracy does not improve!!!\n",
            "--------------------\n",
            "Epoch 10/30\n"
          ]
        },
        {
          "output_type": "stream",
          "name": "stderr",
          "text": [
            "100%|██████████| 305/305 [00:51<00:00,  5.92it/s]\n",
            "100%|██████████| 39/39 [00:05<00:00,  7.48it/s]\n"
          ]
        },
        {
          "output_type": "stream",
          "name": "stdout",
          "text": [
            "Loss: 1.746 | Accuracy: 40.688\n",
            "Train Loss: 2.085 | Train Accuracy: 43.750 -- Valid Loss: 1.746 | Accuracy: 40.688\n",
            "--------------------\n",
            "Epoch 11/30\n"
          ]
        },
        {
          "output_type": "stream",
          "name": "stderr",
          "text": [
            "100%|██████████| 305/305 [00:51<00:00,  5.96it/s]\n",
            "100%|██████████| 39/39 [00:05<00:00,  7.56it/s]\n"
          ]
        },
        {
          "output_type": "stream",
          "name": "stdout",
          "text": [
            "Loss: 1.741 | Accuracy: 41.015\n",
            "Train Loss: 2.058 | Train Accuracy: 44.760 -- Valid Loss: 1.741 | Accuracy: 41.015\n",
            "--------------------\n",
            "Epoch 12/30\n"
          ]
        },
        {
          "output_type": "stream",
          "name": "stderr",
          "text": [
            "100%|██████████| 305/305 [00:51<00:00,  5.97it/s]\n",
            "100%|██████████| 39/39 [00:05<00:00,  7.57it/s]\n"
          ]
        },
        {
          "output_type": "stream",
          "name": "stdout",
          "text": [
            "Loss: 1.733 | Accuracy: 43.062\n",
            "Train Loss: 2.036 | Train Accuracy: 45.016 -- Valid Loss: 1.733 | Accuracy: 43.062\n",
            "--------------------\n",
            "Epoch 13/30\n"
          ]
        },
        {
          "output_type": "stream",
          "name": "stderr",
          "text": [
            "100%|██████████| 305/305 [00:51<00:00,  5.95it/s]\n",
            "100%|██████████| 39/39 [00:05<00:00,  7.47it/s]\n"
          ]
        },
        {
          "output_type": "stream",
          "name": "stdout",
          "text": [
            "Loss: 1.732 | Accuracy: 42.161\n",
            "Train Loss: 2.015 | Train Accuracy: 45.380 -- Valid Loss: 1.732 | Accuracy: 42.161\n",
            "Valid accuracy does not improve!!!\n",
            "--------------------\n",
            "Epoch 14/30\n"
          ]
        },
        {
          "output_type": "stream",
          "name": "stderr",
          "text": [
            "100%|██████████| 305/305 [00:51<00:00,  5.87it/s]\n",
            "100%|██████████| 39/39 [00:05<00:00,  7.36it/s]\n"
          ]
        },
        {
          "output_type": "stream",
          "name": "stdout",
          "text": [
            "Loss: 1.736 | Accuracy: 42.489\n",
            "Train Loss: 1.994 | Train Accuracy: 46.092 -- Valid Loss: 1.736 | Accuracy: 42.489\n",
            "Valid accuracy does not improve!!!\n",
            "--------------------\n",
            "Epoch 15/30\n"
          ]
        },
        {
          "output_type": "stream",
          "name": "stderr",
          "text": [
            "100%|██████████| 305/305 [00:51<00:00,  5.88it/s]\n",
            "100%|██████████| 39/39 [00:05<00:00,  7.34it/s]\n"
          ]
        },
        {
          "output_type": "stream",
          "name": "stdout",
          "text": [
            "Loss: 1.730 | Accuracy: 43.062\n",
            "Train Loss: 1.977 | Train Accuracy: 46.431 -- Valid Loss: 1.730 | Accuracy: 43.062\n",
            "Valid accuracy does not improve!!!\n",
            "--------------------\n",
            "Epoch 16/30\n"
          ]
        },
        {
          "output_type": "stream",
          "name": "stderr",
          "text": [
            "100%|██████████| 305/305 [00:51<00:00,  5.88it/s]\n",
            "100%|██████████| 39/39 [00:05<00:00,  7.46it/s]\n"
          ]
        },
        {
          "output_type": "stream",
          "name": "stdout",
          "text": [
            "Loss: 1.725 | Accuracy: 43.103\n",
            "Train Loss: 1.959 | Train Accuracy: 46.866 -- Valid Loss: 1.725 | Accuracy: 43.103\n",
            "--------------------\n",
            "Epoch 17/30\n"
          ]
        },
        {
          "output_type": "stream",
          "name": "stderr",
          "text": [
            "100%|██████████| 305/305 [00:51<00:00,  5.91it/s]\n",
            "100%|██████████| 39/39 [00:05<00:00,  7.18it/s]\n"
          ]
        },
        {
          "output_type": "stream",
          "name": "stdout",
          "text": [
            "Loss: 1.727 | Accuracy: 42.530\n",
            "Train Loss: 1.943 | Train Accuracy: 47.292 -- Valid Loss: 1.727 | Accuracy: 42.530\n",
            "Valid accuracy does not improve!!!\n",
            "--------------------\n",
            "Epoch 18/30\n"
          ]
        },
        {
          "output_type": "stream",
          "name": "stderr",
          "text": [
            "100%|██████████| 305/305 [00:51<00:00,  5.93it/s]\n",
            "100%|██████████| 39/39 [00:05<00:00,  7.56it/s]\n"
          ]
        },
        {
          "output_type": "stream",
          "name": "stdout",
          "text": [
            "Loss: 1.722 | Accuracy: 42.734\n",
            "Train Loss: 1.930 | Train Accuracy: 47.512 -- Valid Loss: 1.722 | Accuracy: 42.734\n",
            "Valid accuracy does not improve!!!\n",
            "--------------------\n",
            "Epoch 19/30\n"
          ]
        },
        {
          "output_type": "stream",
          "name": "stderr",
          "text": [
            "100%|██████████| 305/305 [00:51<00:00,  5.96it/s]\n",
            "100%|██████████| 39/39 [00:05<00:00,  7.44it/s]\n"
          ]
        },
        {
          "output_type": "stream",
          "name": "stdout",
          "text": [
            "Loss: 1.719 | Accuracy: 43.840\n",
            "Train Loss: 1.914 | Train Accuracy: 48.342 -- Valid Loss: 1.719 | Accuracy: 43.840\n",
            "--------------------\n",
            "Epoch 20/30\n"
          ]
        },
        {
          "output_type": "stream",
          "name": "stderr",
          "text": [
            "100%|██████████| 305/305 [00:51<00:00,  5.93it/s]\n",
            "100%|██████████| 39/39 [00:05<00:00,  7.42it/s]\n"
          ]
        },
        {
          "output_type": "stream",
          "name": "stdout",
          "text": [
            "Loss: 1.726 | Accuracy: 42.939\n",
            "Train Loss: 1.901 | Train Accuracy: 48.506 -- Valid Loss: 1.726 | Accuracy: 42.939\n",
            "Valid accuracy does not improve!!!\n",
            "--------------------\n",
            "Epoch 21/30\n"
          ]
        },
        {
          "output_type": "stream",
          "name": "stderr",
          "text": [
            "100%|██████████| 305/305 [00:51<00:00,  5.89it/s]\n",
            "100%|██████████| 39/39 [00:05<00:00,  7.40it/s]\n"
          ]
        },
        {
          "output_type": "stream",
          "name": "stdout",
          "text": [
            "Loss: 1.709 | Accuracy: 44.945\n",
            "Train Loss: 1.887 | Train Accuracy: 49.070 -- Valid Loss: 1.709 | Accuracy: 44.945\n",
            "--------------------\n",
            "Epoch 22/30\n"
          ]
        },
        {
          "output_type": "stream",
          "name": "stderr",
          "text": [
            "100%|██████████| 305/305 [00:51<00:00,  5.92it/s]\n",
            "100%|██████████| 39/39 [00:05<00:00,  7.14it/s]\n"
          ]
        },
        {
          "output_type": "stream",
          "name": "stdout",
          "text": [
            "Loss: 1.709 | Accuracy: 44.454\n",
            "Train Loss: 1.875 | Train Accuracy: 49.782 -- Valid Loss: 1.709 | Accuracy: 44.454\n",
            "Valid accuracy does not improve!!!\n",
            "--------------------\n",
            "Epoch 23/30\n"
          ]
        },
        {
          "output_type": "stream",
          "name": "stderr",
          "text": [
            "100%|██████████| 305/305 [00:51<00:00,  5.95it/s]\n",
            "100%|██████████| 39/39 [00:05<00:00,  7.18it/s]\n"
          ]
        },
        {
          "output_type": "stream",
          "name": "stdout",
          "text": [
            "Loss: 1.713 | Accuracy: 44.167\n",
            "Train Loss: 1.865 | Train Accuracy: 49.915 -- Valid Loss: 1.713 | Accuracy: 44.167\n",
            "Valid accuracy does not improve!!!\n",
            "--------------------\n",
            "Epoch 24/30\n"
          ]
        },
        {
          "output_type": "stream",
          "name": "stderr",
          "text": [
            "100%|██████████| 305/305 [00:51<00:00,  5.90it/s]\n",
            "100%|██████████| 39/39 [00:05<00:00,  7.18it/s]\n"
          ]
        },
        {
          "output_type": "stream",
          "name": "stdout",
          "text": [
            "Loss: 1.711 | Accuracy: 43.758\n",
            "Train Loss: 1.857 | Train Accuracy: 50.366 -- Valid Loss: 1.711 | Accuracy: 43.758\n",
            "Valid accuracy does not improve!!!\n",
            "--------------------\n",
            "Epoch 25/30\n"
          ]
        },
        {
          "output_type": "stream",
          "name": "stderr",
          "text": [
            "100%|██████████| 305/305 [00:52<00:00,  5.86it/s]\n",
            "100%|██████████| 39/39 [00:05<00:00,  7.18it/s]\n"
          ]
        },
        {
          "output_type": "stream",
          "name": "stdout",
          "text": [
            "Loss: 1.720 | Accuracy: 43.144\n",
            "Train Loss: 1.846 | Train Accuracy: 50.725 -- Valid Loss: 1.720 | Accuracy: 43.144\n",
            "Valid accuracy does not improve!!!\n",
            "--------------------\n",
            "Epoch 26/30\n"
          ]
        },
        {
          "output_type": "stream",
          "name": "stderr",
          "text": [
            " 61%|██████    | 186/305 [00:31<00:20,  5.78it/s]"
          ]
        }
      ]
    },
    {
      "cell_type": "code",
      "source": [
        "import matplotlib.pyplot as plt\n",
        "plt.plot(Train_loss, '-o')\n",
        "plt.plot(Valid_loss, '-o')\n",
        "\n",
        "plt.xlabel('epochs')\n",
        "plt.ylabel('Loss')\n",
        "plt.legend(['Train','Valid'])\n",
        "plt.title('Train and Valid Loss')\n",
        "plt.show()\n",
        "\n",
        "plt.plot(Train_acc, '-o')\n",
        "plt.plot(Valid_acc, '-o')\n",
        "\n",
        "plt.xlabel('epochs')\n",
        "plt.ylabel('Accuracy')\n",
        "plt.legend(['Train','Valid'])\n",
        "plt.title('Train and Valid Accuracy')\n",
        "plt.show()"
      ],
      "metadata": {
        "id": "idIWhwwrDl9k",
        "outputId": "2322934e-51e4-4b48-8c00-26dee2c41fa6",
        "colab": {
          "base_uri": "https://localhost:8080/",
          "height": 573
        }
      },
      "execution_count": null,
      "outputs": [
        {
          "output_type": "display_data",
          "data": {
            "text/plain": [
              "<Figure size 432x288 with 1 Axes>"
            ],
            "image/png": "[encoded data removed]"
          },
          "metadata": {
            "needs_background": "light"
          }
        },
        {
          "output_type": "display_data",
          "data": {
            "text/plain": [
              "<Figure size 432x288 with 1 Axes>"
            ],
            "image/png": "[encoded data removed]"
          },
          "metadata": {
            "needs_background": "light"
          }
        }
      ]
    }
  ]
}