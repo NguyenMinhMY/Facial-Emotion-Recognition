{
  "nbformat": 4,
  "nbformat_minor": 0,
  "metadata": {
    "colab": {
      "provenance": []
    },
    "kernelspec": {
      "name": "python3",
      "display_name": "Python 3"
    },
    "language_info": {
      "name": "python"
    },
    "accelerator": "GPU",
    "gpuClass": "standard"
  },
  "cells": [
    {
      "cell_type": "code",
      "execution_count": null,
      "metadata": {
        "id": "qnnOKT8MHIxH",
        "colab": {
          "base_uri": "https://localhost:8080/"
        },
        "outputId": "8cca92db-d224-41f6-e074-0610de221475"
      },
      "outputs": [
        {
          "output_type": "stream",
          "name": "stdout",
          "text": [
            "Mounted at /content/drive\n",
            "/content/drive/MyDrive/Colab Notebooks\n"
          ]
        }
      ],
      "source": [
        "from google.colab import drive\n",
        "drive.mount('/content/drive', force_remount=True)\n",
        "%cd '/content/drive/MyDrive/Colab Notebooks'"
      ]
    },
    {
      "cell_type": "code",
      "source": [
        "import torch\n",
        "import torch.nn as nn\n",
        "import numpy as np\n",
        "import matplotlib.pyplot as plt\n",
        "from preparing import ImageGenerator, train, test"
      ],
      "metadata": {
        "id": "w5GS6I8THOET"
      },
      "execution_count": null,
      "outputs": []
    },
    {
      "cell_type": "code",
      "source": [
        "device = torch.device(\"cuda:0\" if torch.cuda.is_available() else \"cpu\")\n",
        "batch_size = 64\n",
        "max_dimension = 512\n",
        "n_classes = 7"
      ],
      "metadata": {
        "id": "Dt73NhaaHQyj"
      },
      "execution_count": null,
      "outputs": []
    },
    {
      "cell_type": "code",
      "source": [
        "model = nn.Sequential(\n",
        "            nn.Conv2d(3, 64, kernel_size=3, stride=2, padding=1),\n",
        "            nn.ReLU(),\n",
        "            nn.Conv2d(64, 64, kernel_size=3, stride=2, padding=1),\n",
        "            nn.ReLU(),\n",
        "            nn.MaxPool2d(2, 2),\n",
        "            nn.BatchNorm2d(64),\n",
        " \n",
        "            nn.Conv2d(64, 128, kernel_size=3, stride=2, padding=1),\n",
        "            nn.ReLU(),\n",
        "            nn.Conv2d(128,128 , kernel_size=3, stride=1, padding=1),\n",
        "            nn.ReLU(),\n",
        "            nn.MaxPool2d(2, 2),\n",
        "            nn.BatchNorm2d(128),\n",
        " \n",
        "            nn.Conv2d(128, 256, kernel_size=3, stride=1, padding=1),\n",
        "            nn.ReLU(),\n",
        "            nn.Conv2d(256, 256, kernel_size=3, stride=1, padding=1),\n",
        "            nn.ReLU(),\n",
        "            nn.MaxPool2d(2, 2), \n",
        "            nn.BatchNorm2d(256),\n",
        "             \n",
        "            nn.AdaptiveAvgPool2d((2,2)),\n",
        "\n",
        "            \n",
        "            nn.Flatten(), \n",
        "            nn.Linear(256*2*2, 128),\n",
        "            nn.ReLU(),\n",
        "            nn.Linear(128, n_classes),\n",
        "            nn.Softmax()).to(device)"
      ],
      "metadata": {
        "id": "1R_47qGJHSgK"
      },
      "execution_count": null,
      "outputs": []
    },
    {
      "cell_type": "code",
      "source": [
        "\n",
        "loss_fn=nn.CrossEntropyLoss()\n",
        "optimizer= torch.optim.Adam(model.parameters(),lr=0.0002,weight_decay = 0.0001)"
      ],
      "metadata": {
        "id": "xthxPqdxHUUU"
      },
      "execution_count": null,
      "outputs": []
    },
    {
      "cell_type": "code",
      "source": [
        "from torchsummary import summary\n",
        "summary(model,(3,128,128))"
      ],
      "metadata": {
        "id": "Qxm3d5eoHV4E"
      },
      "execution_count": null,
      "outputs": []
    },
    {
      "cell_type": "code",
      "source": [
        "train_image_directory = 'Data/parts_train/right_eye'\n",
        "valid_image_directory = 'Data/parts_val/right_eye'\n",
        "train_loader = ImageGenerator(train_image_directory, batch_size=batch_size, shuffle=True, max_dimension=max_dimension)\n",
        "valid_loader = ImageGenerator(valid_image_directory, batch_size=batch_size, max_dimension=max_dimension)"
      ],
      "metadata": {
        "id": "bF8qOJSlHXfk"
      },
      "execution_count": null,
      "outputs": []
    },
    {
      "cell_type": "code",
      "source": [
        "epochs=25\n",
        "path_to_save = 'right_eye.pth'\n",
        "train_losses, train_accurs, valid_losses, valid_accurs = train(epochs,model,\n",
        "                                                               train_loader, \n",
        "                                                               valid_loader,\n",
        "                                                               loss_fn, \n",
        "                                                               optimizer,\n",
        "                                                               device,\n",
        "                                                               path_to_save,\n",
        "                                                               patience=15)\n"
      ],
      "metadata": {
        "id": "RAOXrOY2HZEc",
        "colab": {
          "base_uri": "https://localhost:8080/"
        },
        "outputId": "edcc250c-7ab7-4fbf-a612-c93c8cd93c58"
      },
      "execution_count": null,
      "outputs": [
        {
          "output_type": "stream",
          "name": "stdout",
          "text": [
            "--------------------\n",
            "Epoch 1/25\n"
          ]
        },
        {
          "output_type": "stream",
          "name": "stderr",
          "text": [
            "100%|██████████| 303/303 [1:11:57<00:00, 14.25s/it]\n",
            "100%|██████████| 38/38 [10:47<00:00, 17.04s/it]\n"
          ]
        },
        {
          "output_type": "stream",
          "name": "stdout",
          "text": [
            "Loss: 1.838 | Accuracy: 31.178\n",
            "Train Loss: 2.517 | Train Accuracy: 32.458 -- Valid Loss: 1.838 | Accuracy: 31.178\n",
            "--------------------\n",
            "Epoch 2/25\n"
          ]
        },
        {
          "output_type": "stream",
          "name": "stderr",
          "text": [
            "100%|██████████| 303/303 [00:50<00:00,  6.03it/s]\n",
            "100%|██████████| 38/38 [00:05<00:00,  7.27it/s]\n"
          ]
        },
        {
          "output_type": "stream",
          "name": "stdout",
          "text": [
            "Loss: 1.803 | Accuracy: 34.802\n",
            "Train Loss: 2.335 | Train Accuracy: 35.910 -- Valid Loss: 1.803 | Accuracy: 34.802\n",
            "--------------------\n",
            "Epoch 3/25\n"
          ]
        },
        {
          "output_type": "stream",
          "name": "stderr",
          "text": [
            "100%|██████████| 303/303 [00:49<00:00,  6.08it/s]\n",
            "100%|██████████| 38/38 [00:05<00:00,  7.41it/s]\n"
          ]
        },
        {
          "output_type": "stream",
          "name": "stdout",
          "text": [
            "Loss: 1.801 | Accuracy: 34.555\n",
            "Train Loss: 2.232 | Train Accuracy: 37.469 -- Valid Loss: 1.801 | Accuracy: 34.555\n",
            "Valid accuracy does not improve!!!\n",
            "--------------------\n",
            "Epoch 4/25\n"
          ]
        },
        {
          "output_type": "stream",
          "name": "stderr",
          "text": [
            "100%|██████████| 303/303 [00:49<00:00,  6.08it/s]\n",
            "100%|██████████| 38/38 [00:05<00:00,  7.46it/s]\n"
          ]
        },
        {
          "output_type": "stream",
          "name": "stdout",
          "text": [
            "Loss: 1.803 | Accuracy: 34.514\n",
            "Train Loss: 2.159 | Train Accuracy: 38.460 -- Valid Loss: 1.803 | Accuracy: 34.514\n",
            "Valid accuracy does not improve!!!\n",
            "--------------------\n",
            "Epoch 5/25\n"
          ]
        },
        {
          "output_type": "stream",
          "name": "stderr",
          "text": [
            "100%|██████████| 303/303 [00:49<00:00,  6.08it/s]\n",
            "100%|██████████| 38/38 [00:05<00:00,  7.35it/s]\n"
          ]
        },
        {
          "output_type": "stream",
          "name": "stdout",
          "text": [
            "Loss: 1.785 | Accuracy: 36.697\n",
            "Train Loss: 2.106 | Train Accuracy: 39.038 -- Valid Loss: 1.785 | Accuracy: 36.697\n",
            "--------------------\n",
            "Epoch 6/25\n"
          ]
        },
        {
          "output_type": "stream",
          "name": "stderr",
          "text": [
            "100%|██████████| 303/303 [00:49<00:00,  6.10it/s]\n",
            "100%|██████████| 38/38 [00:05<00:00,  7.47it/s]\n"
          ]
        },
        {
          "output_type": "stream",
          "name": "stdout",
          "text": [
            "Loss: 1.786 | Accuracy: 36.862\n",
            "Train Loss: 2.059 | Train Accuracy: 39.817 -- Valid Loss: 1.786 | Accuracy: 36.862\n",
            "--------------------\n",
            "Epoch 7/25\n"
          ]
        },
        {
          "output_type": "stream",
          "name": "stderr",
          "text": [
            "100%|██████████| 303/303 [00:49<00:00,  6.15it/s]\n",
            "100%|██████████| 38/38 [00:05<00:00,  7.56it/s]\n"
          ]
        },
        {
          "output_type": "stream",
          "name": "stdout",
          "text": [
            "Loss: 1.772 | Accuracy: 38.138\n",
            "Train Loss: 2.019 | Train Accuracy: 40.457 -- Valid Loss: 1.772 | Accuracy: 38.138\n",
            "--------------------\n",
            "Epoch 8/25\n"
          ]
        },
        {
          "output_type": "stream",
          "name": "stderr",
          "text": [
            "100%|██████████| 303/303 [00:49<00:00,  6.18it/s]\n",
            "100%|██████████| 38/38 [00:05<00:00,  7.42it/s]\n"
          ]
        },
        {
          "output_type": "stream",
          "name": "stdout",
          "text": [
            "Loss: 1.761 | Accuracy: 38.674\n",
            "Train Loss: 1.987 | Train Accuracy: 40.999 -- Valid Loss: 1.761 | Accuracy: 38.674\n",
            "--------------------\n",
            "Epoch 9/25\n"
          ]
        },
        {
          "output_type": "stream",
          "name": "stderr",
          "text": [
            "100%|██████████| 303/303 [00:49<00:00,  6.14it/s]\n",
            "100%|██████████| 38/38 [00:05<00:00,  7.45it/s]\n"
          ]
        },
        {
          "output_type": "stream",
          "name": "stdout",
          "text": [
            "Loss: 1.762 | Accuracy: 39.456\n",
            "Train Loss: 1.955 | Train Accuracy: 41.618 -- Valid Loss: 1.762 | Accuracy: 39.456\n",
            "--------------------\n",
            "Epoch 10/25\n"
          ]
        },
        {
          "output_type": "stream",
          "name": "stderr",
          "text": [
            "100%|██████████| 303/303 [00:49<00:00,  6.11it/s]\n",
            "100%|██████████| 38/38 [00:05<00:00,  7.44it/s]\n"
          ]
        },
        {
          "output_type": "stream",
          "name": "stdout",
          "text": [
            "Loss: 1.763 | Accuracy: 39.333\n",
            "Train Loss: 1.932 | Train Accuracy: 41.877 -- Valid Loss: 1.763 | Accuracy: 39.333\n",
            "Valid accuracy does not improve!!!\n",
            "--------------------\n",
            "Epoch 11/25\n"
          ]
        },
        {
          "output_type": "stream",
          "name": "stderr",
          "text": [
            "100%|██████████| 303/303 [00:49<00:00,  6.14it/s]\n",
            "100%|██████████| 38/38 [00:05<00:00,  7.32it/s]\n"
          ]
        },
        {
          "output_type": "stream",
          "name": "stdout",
          "text": [
            "Loss: 1.760 | Accuracy: 39.003\n",
            "Train Loss: 1.907 | Train Accuracy: 42.635 -- Valid Loss: 1.760 | Accuracy: 39.003\n",
            "Valid accuracy does not improve!!!\n",
            "--------------------\n",
            "Epoch 12/25\n"
          ]
        },
        {
          "output_type": "stream",
          "name": "stderr",
          "text": [
            "100%|██████████| 303/303 [00:49<00:00,  6.15it/s]\n",
            "100%|██████████| 38/38 [00:05<00:00,  7.47it/s]\n"
          ]
        },
        {
          "output_type": "stream",
          "name": "stdout",
          "text": [
            "Loss: 1.758 | Accuracy: 39.580\n",
            "Train Loss: 1.890 | Train Accuracy: 42.873 -- Valid Loss: 1.758 | Accuracy: 39.580\n",
            "--------------------\n",
            "Epoch 13/25\n"
          ]
        },
        {
          "output_type": "stream",
          "name": "stderr",
          "text": [
            "100%|██████████| 303/303 [00:49<00:00,  6.15it/s]\n",
            "100%|██████████| 38/38 [00:05<00:00,  7.52it/s]\n"
          ]
        },
        {
          "output_type": "stream",
          "name": "stdout",
          "text": [
            "Loss: 1.753 | Accuracy: 40.445\n",
            "Train Loss: 1.875 | Train Accuracy: 42.966 -- Valid Loss: 1.753 | Accuracy: 40.445\n",
            "--------------------\n",
            "Epoch 14/25\n"
          ]
        },
        {
          "output_type": "stream",
          "name": "stderr",
          "text": [
            "100%|██████████| 303/303 [00:49<00:00,  6.16it/s]\n",
            "100%|██████████| 38/38 [00:05<00:00,  7.50it/s]\n"
          ]
        },
        {
          "output_type": "stream",
          "name": "stdout",
          "text": [
            "Loss: 1.754 | Accuracy: 40.527\n",
            "Train Loss: 1.859 | Train Accuracy: 43.461 -- Valid Loss: 1.754 | Accuracy: 40.527\n",
            "--------------------\n",
            "Epoch 15/25\n"
          ]
        },
        {
          "output_type": "stream",
          "name": "stderr",
          "text": [
            "100%|██████████| 303/303 [00:49<00:00,  6.14it/s]\n",
            "100%|██████████| 38/38 [00:05<00:00,  7.48it/s]\n"
          ]
        },
        {
          "output_type": "stream",
          "name": "stdout",
          "text": [
            "Loss: 1.746 | Accuracy: 40.486\n",
            "Train Loss: 1.848 | Train Accuracy: 43.657 -- Valid Loss: 1.746 | Accuracy: 40.486\n",
            "Valid accuracy does not improve!!!\n",
            "--------------------\n",
            "Epoch 16/25\n"
          ]
        },
        {
          "output_type": "stream",
          "name": "stderr",
          "text": [
            "100%|██████████| 303/303 [00:49<00:00,  6.17it/s]\n",
            "100%|██████████| 38/38 [00:05<00:00,  7.50it/s]\n"
          ]
        },
        {
          "output_type": "stream",
          "name": "stdout",
          "text": [
            "Loss: 1.748 | Accuracy: 41.021\n",
            "Train Loss: 1.837 | Train Accuracy: 43.900 -- Valid Loss: 1.748 | Accuracy: 41.021\n",
            "--------------------\n",
            "Epoch 17/25\n"
          ]
        },
        {
          "output_type": "stream",
          "name": "stderr",
          "text": [
            "100%|██████████| 303/303 [00:49<00:00,  6.09it/s]\n",
            "100%|██████████| 38/38 [00:05<00:00,  7.45it/s]\n"
          ]
        },
        {
          "output_type": "stream",
          "name": "stdout",
          "text": [
            "Loss: 1.741 | Accuracy: 41.433\n",
            "Train Loss: 1.828 | Train Accuracy: 44.292 -- Valid Loss: 1.741 | Accuracy: 41.433\n",
            "--------------------\n",
            "Epoch 18/25\n"
          ]
        },
        {
          "output_type": "stream",
          "name": "stderr",
          "text": [
            "100%|██████████| 303/303 [00:49<00:00,  6.15it/s]\n",
            "100%|██████████| 38/38 [00:05<00:00,  7.52it/s]\n"
          ]
        },
        {
          "output_type": "stream",
          "name": "stdout",
          "text": [
            "Loss: 1.735 | Accuracy: 42.010\n",
            "Train Loss: 1.820 | Train Accuracy: 44.421 -- Valid Loss: 1.735 | Accuracy: 42.010\n",
            "--------------------\n",
            "Epoch 19/25\n"
          ]
        },
        {
          "output_type": "stream",
          "name": "stderr",
          "text": [
            "100%|██████████| 303/303 [00:49<00:00,  6.16it/s]\n",
            "100%|██████████| 38/38 [00:05<00:00,  7.49it/s]\n"
          ]
        },
        {
          "output_type": "stream",
          "name": "stdout",
          "text": [
            "Loss: 1.742 | Accuracy: 41.598\n",
            "Train Loss: 1.811 | Train Accuracy: 45.076 -- Valid Loss: 1.742 | Accuracy: 41.598\n",
            "Valid accuracy does not improve!!!\n",
            "--------------------\n",
            "Epoch 20/25\n"
          ]
        },
        {
          "output_type": "stream",
          "name": "stderr",
          "text": [
            "100%|██████████| 303/303 [00:49<00:00,  6.14it/s]\n",
            "100%|██████████| 38/38 [00:05<00:00,  7.48it/s]\n"
          ]
        },
        {
          "output_type": "stream",
          "name": "stdout",
          "text": [
            "Loss: 1.757 | Accuracy: 39.292\n",
            "Train Loss: 1.810 | Train Accuracy: 44.762 -- Valid Loss: 1.757 | Accuracy: 39.292\n",
            "Valid accuracy does not improve!!!\n",
            "--------------------\n",
            "Epoch 21/25\n"
          ]
        },
        {
          "output_type": "stream",
          "name": "stderr",
          "text": [
            "100%|██████████| 303/303 [00:48<00:00,  6.20it/s]\n",
            "100%|██████████| 38/38 [00:05<00:00,  7.50it/s]\n"
          ]
        },
        {
          "output_type": "stream",
          "name": "stdout",
          "text": [
            "Loss: 1.749 | Accuracy: 40.980\n",
            "Train Loss: 1.801 | Train Accuracy: 45.303 -- Valid Loss: 1.749 | Accuracy: 40.980\n",
            "Valid accuracy does not improve!!!\n",
            "--------------------\n",
            "Epoch 22/25\n"
          ]
        },
        {
          "output_type": "stream",
          "name": "stderr",
          "text": [
            "100%|██████████| 303/303 [00:49<00:00,  6.17it/s]\n",
            "100%|██████████| 38/38 [00:05<00:00,  7.49it/s]\n"
          ]
        },
        {
          "output_type": "stream",
          "name": "stdout",
          "text": [
            "Loss: 1.744 | Accuracy: 40.733\n",
            "Train Loss: 1.799 | Train Accuracy: 45.200 -- Valid Loss: 1.744 | Accuracy: 40.733\n",
            "Valid accuracy does not improve!!!\n",
            "--------------------\n",
            "Epoch 23/25\n"
          ]
        },
        {
          "output_type": "stream",
          "name": "stderr",
          "text": [
            "100%|██████████| 303/303 [00:49<00:00,  6.15it/s]\n",
            "100%|██████████| 38/38 [00:05<00:00,  7.48it/s]\n"
          ]
        },
        {
          "output_type": "stream",
          "name": "stdout",
          "text": [
            "Loss: 1.736 | Accuracy: 41.722\n",
            "Train Loss: 1.795 | Train Accuracy: 45.608 -- Valid Loss: 1.736 | Accuracy: 41.722\n",
            "Valid accuracy does not improve!!!\n",
            "--------------------\n",
            "Epoch 24/25\n"
          ]
        },
        {
          "output_type": "stream",
          "name": "stderr",
          "text": [
            "100%|██████████| 303/303 [00:48<00:00,  6.20it/s]\n",
            "100%|██████████| 38/38 [00:05<00:00,  7.47it/s]\n"
          ]
        },
        {
          "output_type": "stream",
          "name": "stdout",
          "text": [
            "Loss: 1.739 | Accuracy: 41.474\n",
            "Train Loss: 1.793 | Train Accuracy: 45.427 -- Valid Loss: 1.739 | Accuracy: 41.474\n",
            "Valid accuracy does not improve!!!\n",
            "--------------------\n",
            "Epoch 25/25\n"
          ]
        },
        {
          "output_type": "stream",
          "name": "stderr",
          "text": [
            "100%|██████████| 303/303 [00:49<00:00,  6.16it/s]\n",
            "100%|██████████| 38/38 [00:05<00:00,  7.54it/s]"
          ]
        },
        {
          "output_type": "stream",
          "name": "stdout",
          "text": [
            "Loss: 1.751 | Accuracy: 40.362\n",
            "Train Loss: 1.788 | Train Accuracy: 46.031 -- Valid Loss: 1.751 | Accuracy: 40.362\n",
            "Valid accuracy does not improve!!!\n",
            "Training complete in 104m 34s\n",
            "Best val Acc: 42.009885\n"
          ]
        },
        {
          "output_type": "stream",
          "name": "stderr",
          "text": [
            "\n"
          ]
        }
      ]
    },
    {
      "cell_type": "code",
      "source": [
        "plt.plot(train_losses, '-o')\n",
        "plt.plot(valid_losses, '-o')\n",
        "\n",
        "plt.xlabel('epochs')\n",
        "plt.ylabel('Loss')\n",
        "plt.legend(['Train','Valid'])\n",
        "plt.title('Train and Valid Loss')\n",
        "plt.show()\n",
        "\n",
        "plt.plot(train_accurs, '-o')\n",
        "plt.plot(valid_accurs, '-o')\n",
        "\n",
        "plt.xlabel('epochs')\n",
        "plt.ylabel('Accuracy')\n",
        "plt.legend(['Train','Valid'])\n",
        "plt.title('Train and Valid Accuracy')\n",
        "plt.show()"
      ],
      "metadata": {
        "id": "sg-9BNpHHgbm",
        "colab": {
          "base_uri": "https://localhost:8080/",
          "height": 573
        },
        "outputId": "41d1d5f4-9e7b-4133-ce59-aeb5369df910"
      },
      "execution_count": null,
      "outputs": [
        {
          "output_type": "display_data",
          "data": {
            "text/plain": [
              "<Figure size 432x288 with 1 Axes>"
            ],
            "image/png": "[encoded data removed]"
          },
          "metadata": {
            "needs_background": "light"
          }
        },
        {
          "output_type": "display_data",
          "data": {
            "text/plain": [
              "<Figure size 432x288 with 1 Axes>"
            ],
            "image/png": "[encoded data removed]"
          },
          "metadata": {
            "needs_background": "light"
          }
        }
      ]
    }
  ]
}