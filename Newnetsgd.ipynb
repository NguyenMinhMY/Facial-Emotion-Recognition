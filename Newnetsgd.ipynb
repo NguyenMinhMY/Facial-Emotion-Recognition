{
  "cells": [
    {
      "cell_type": "code",
      "execution_count": null,
      "metadata": {
        "colab": {
          "base_uri": "https://localhost:8080/"
        },
        "id": "erN6bY4C-GqE",
        "outputId": "3ce5142a-bb67-43b4-b4e8-27b4ec76769c"
      },
      "outputs": [
        {
          "output_type": "stream",
          "name": "stdout",
          "text": [
            "Mounted at /content/drive\n"
          ]
        }
      ],
      "source": [
        "from google.colab import drive\n",
        "drive.mount('/content/drive', force_remount=True)"
      ]
    },
    {
      "cell_type": "code",
      "execution_count": null,
      "metadata": {
        "colab": {
          "base_uri": "https://localhost:8080/"
        },
        "id": "EtQNEM83-NT5",
        "outputId": "7ccfaeca-334b-42b7-f252-5890f6dadd99"
      },
      "outputs": [
        {
          "output_type": "stream",
          "name": "stdout",
          "text": [
            "Fri Mar  3 09:25:46 2023       \n",
            "+-----------------------------------------------------------------------------+\n",
            "| NVIDIA-SMI 525.85.12    Driver Version: 525.85.12    CUDA Version: 12.0     |\n",
            "|-------------------------------+----------------------+----------------------+\n",
            "| GPU  Name        Persistence-M| Bus-Id        Disp.A | Volatile Uncorr. ECC |\n",
            "| Fan  Temp  Perf  Pwr:Usage/Cap|         Memory-Usage | GPU-Util  Compute M. |\n",
            "|                               |                      |               MIG M. |\n",
            "|===============================+======================+======================|\n",
            "|   0  Tesla T4            Off  | 00000000:00:04.0 Off |                    0 |\n",
            "| N/A   42C    P0    27W /  70W |      0MiB / 15360MiB |      0%      Default |\n",
            "|                               |                      |                  N/A |\n",
            "+-------------------------------+----------------------+----------------------+\n",
            "                                                                               \n",
            "+-----------------------------------------------------------------------------+\n",
            "| Processes:                                                                  |\n",
            "|  GPU   GI   CI        PID   Type   Process name                  GPU Memory |\n",
            "|        ID   ID                                                   Usage      |\n",
            "|=============================================================================|\n",
            "|  No running processes found                                                 |\n",
            "+-----------------------------------------------------------------------------+\n"
          ]
        }
      ],
      "source": [
        "!nvidia-smi"
      ]
    },
    {
      "cell_type": "code",
      "execution_count": null,
      "metadata": {
        "colab": {
          "base_uri": "https://localhost:8080/"
        },
        "id": "VErjgQwL-O3_",
        "outputId": "1c85dd20-8ca0-4b43-a5a2-26d4bfae3e3c"
      },
      "outputs": [
        {
          "output_type": "stream",
          "name": "stdout",
          "text": [
            "/content/drive/MyDrive/data\n"
          ]
        }
      ],
      "source": [
        "%cd '/content/drive/MyDrive/data/'"
      ]
    },
    {
      "cell_type": "code",
      "execution_count": null,
      "metadata": {
        "id": "5zHBnhFQCHrV"
      },
      "outputs": [],
      "source": [
        "!unzip train_no_dup.zip"
      ]
    },
    {
      "cell_type": "code",
      "execution_count": null,
      "metadata": {
        "id": "TTj9RWZifwCC"
      },
      "outputs": [],
      "source": [
        "!unzip valid.zip"
      ]
    },
    {
      "cell_type": "code",
      "execution_count": null,
      "metadata": {
        "id": "kX9xwNfofyfB"
      },
      "outputs": [],
      "source": [
        "!unzip test.zip"
      ]
    },
    {
      "cell_type": "code",
      "execution_count": null,
      "metadata": {
        "colab": {
          "base_uri": "https://localhost:8080/"
        },
        "id": "RKncqDIoEQMC",
        "outputId": "d44b48ed-f94c-4d28-914f-7ef312178cdb"
      },
      "outputs": [
        {
          "output_type": "stream",
          "name": "stdout",
          "text": [
            "Looking in indexes: https://pypi.org/simple, https://us-python.pkg.dev/colab-wheels/public/simple/\n",
            "Collecting pytorch-ignite\n",
            "  Downloading pytorch_ignite-0.4.11-py3-none-any.whl (266 kB)\n",
            "\u001b[2K     \u001b[90m━━━━━━━━━━━━━━━━━━━━━━━━━━━━━━━━━━━━━━━\u001b[0m \u001b[32m266.5/266.5 KB\u001b[0m \u001b[31m6.5 MB/s\u001b[0m eta \u001b[36m0:00:00\u001b[0m\n",
            "\u001b[?25hRequirement already satisfied: torch<3,>=1.3 in /usr/local/lib/python3.8/dist-packages (from pytorch-ignite) (1.13.1+cu116)\n",
            "Requirement already satisfied: packaging in /usr/local/lib/python3.8/dist-packages (from pytorch-ignite) (23.0)\n",
            "Requirement already satisfied: typing-extensions in /usr/local/lib/python3.8/dist-packages (from torch<3,>=1.3->pytorch-ignite) (4.5.0)\n",
            "Installing collected packages: pytorch-ignite\n",
            "Successfully installed pytorch-ignite-0.4.11\n"
          ]
        }
      ],
      "source": [
        "!pip install pytorch-ignite"
      ]
    },
    {
      "cell_type": "code",
      "execution_count": null,
      "metadata": {
        "colab": {
          "base_uri": "https://localhost:8080/"
        },
        "id": "SWVnoW0J-QuT",
        "outputId": "f415a143-08cf-4a1c-c358-12b838c1f2d4"
      },
      "outputs": [
        {
          "output_type": "stream",
          "name": "stdout",
          "text": [
            "42515469\n"
          ]
        }
      ],
      "source": [
        "import torch\n",
        "import torch.nn as nn\n",
        "from torch.utils.data import DataLoader\n",
        "from modelsgd import Net2\n",
        "from ignite.handlers import *\n",
        "import torch.optim as optim\n",
        "from torch.optim.lr_scheduler import StepLR, ExponentialLR\n",
        "import matplotlib.pyplot as plt\n",
        "from torchvision import datasets, transforms\n",
        "from ignite.engine import Engine, Events, create_supervised_trainer, create_supervised_evaluator\n",
        "from ignite.metrics import Accuracy, Loss\n",
        "TRAIN_DIR = 'train'\n",
        "TEST_DIR = 'test'\n",
        "VAL_DIR = 'valid'\n",
        "plt.ion()\n",
        "device = torch.device('cuda' if torch.cuda.is_available() else 'cpu')"
      ]
    },
    {
      "cell_type": "code",
      "execution_count": null,
      "metadata": {
        "id": "AzFT6RVPus9d"
      },
      "outputs": [],
      "source": [
        "torch.cuda.empty_cache()"
      ]
    },
    {
      "cell_type": "code",
      "execution_count": null,
      "metadata": {
        "id": "6lm39ofI-STg"
      },
      "outputs": [],
      "source": [
        "data_transform = transforms.Compose([\n",
        "    transforms.Grayscale(),\n",
        "    #transforms.RandomCrop(size=(48, 48)),\n",
        "    transforms.RandomAutocontrast(),\n",
        "    transforms.RandomAdjustSharpness(1.5),\n",
        "    transforms.AugMix(),\n",
        "    transforms.RandomHorizontalFlip(),\n",
        "    #transforms.RandomVerticalFlip(),\n",
        "    transforms.RandomRotation(10),\n",
        "    transforms.ColorJitter(brightness=(0.5,1.5),saturation=(0.5,1.5),hue=(-0.1,0.1)), \n",
        "    transforms.ToTensor(),\n",
        "    #transforms.RandomErasing(scale=(0.02, 0.1), p= 0.5),\n",
        "    transforms.Normalize((0.4548,), (0.3040,)),\n",
        "    ]\n",
        ")\n",
        "train_dataset = datasets.ImageFolder(root=TRAIN_DIR, transform=data_transform)\n",
        "\n",
        "test_set = datasets.ImageFolder(root=TEST_DIR, transform=transforms.Compose([\n",
        "    transforms.Grayscale(),\n",
        "    #transforms.RandomCrop(size=(48, 48)),\n",
        "    #transforms.RandomAutocontrast(),\n",
        "    #transforms.RandomAdjustSharpness(1.5),\n",
        "    #transforms.AugMix(),\n",
        "    transforms.RandomHorizontalFlip(),\n",
        "    #transforms.RandomVerticalFlip(),\n",
        "    transforms.RandomRotation(10),\n",
        "    transforms.ColorJitter(brightness=(0.5,1.5),saturation=(0.5,1.5),hue=(-0.1,0.1)), \n",
        "    transforms.ToTensor(),\n",
        "    #transforms.RandomErasing(scale=(0.02, 0.1), p= 0.5),\n",
        "    transforms.Normalize((0.4548,), (0.3040,)),\n",
        "    ]\n",
        "))\n",
        "valid_set = datasets.ImageFolder(root=VAL_DIR, transform=transforms.Compose([\n",
        "    transforms.Grayscale(),\n",
        "    #transforms.RandomCrop(size=(48, 48)),\n",
        "    transforms.RandomAutocontrast(),\n",
        "    transforms.RandomAdjustSharpness(1.5),\n",
        "    transforms.AugMix(),\n",
        "    transforms.RandomHorizontalFlip(),\n",
        "    #transforms.RandomVerticalFlip(),\n",
        "    transforms.RandomRotation(10),\n",
        "    transforms.ColorJitter(brightness=(0.5,1.5),saturation=(0.5,1.5),hue=(-0.1,0.1)), \n",
        "    transforms.ToTensor(),\n",
        "    #transforms.RandomErasing(scale=(0.02, 0.1), p= 0.5),\n",
        "    transforms.Normalize((0.4548,), (0.3040,))\n",
        "    ]\n",
        "))\n",
        "train_loader = DataLoader(train_dataset, batch_size= 32, shuffle=True, num_workers=2)\n",
        "test_loader = DataLoader(test_set, batch_size=32, shuffle=False, num_workers=2)\n",
        "val_loader = DataLoader(valid_set, batch_size= 32, shuffle=True, num_workers=2)"
      ]
    },
    {
      "cell_type": "code",
      "execution_count": null,
      "metadata": {
        "id": "h6VvLPB_-T7P"
      },
      "outputs": [],
      "source": [
        "model = Net2().to(device)\n",
        "optimizer = torch.optim.SGD(model.parameters(), lr= 0.0001, weight_decay= 0.0001, momentum= 0.9, nesterov = True)\n",
        "criterion = nn.CrossEntropyLoss()\n",
        "#lr_scheduler = StepLR(optimizer, step_size= 10, gamma=0.3)\n",
        "#lr_scheduler = ExponentialLR(optimizer, gamma=0.9330329915)\n",
        "#scheduler = LRScheduler(lr_scheduler)\n",
        "trainer = create_supervised_trainer(model, optimizer, criterion, device)\n",
        "val_metrics = {\n",
        "    \"accuracy\": Accuracy(),\n",
        "    \"loss\": Loss(criterion)\n",
        "}\n",
        "\n",
        "train_evaluator = create_supervised_evaluator(model, metrics=val_metrics, device=device)\n",
        "def test(loader, tta=5, str='Validation'):\n",
        "    with torch.no_grad():\n",
        "        model.eval()\n",
        "        test_loss = 0\n",
        "        correct = 0\n",
        "\n",
        "        lst_labels = []\n",
        "        temp = []\n",
        "        for i in range(tta):    \n",
        "            temp.append([])\n",
        "            for data, target in loader:\n",
        "                data, target = data.to(device), target.to(device)\n",
        "                output = model(data)\n",
        "                temp[i].append(output)\n",
        "                if i == 0:\n",
        "                    lst_labels.append(target)\n",
        "            \n",
        "        for i in range(len(temp[0])):           \n",
        "            zero = torch.zeros_like(temp[0][i])\n",
        "            for k in range(tta):\n",
        "                zero += temp[k][i]\n",
        "            zero = zero / tta\n",
        "            target = lst_labels[i]\n",
        "            test_loss += criterion(zero, target).item() * len(zero)\n",
        "            _, pred = zero.max(1, keepdim=True)\n",
        "            correct += (pred == target.view_as(pred)).sum().item()\n",
        "\n",
        "\n",
        "        test_loss /= len(loader.dataset)\n",
        "        print('\\n{} result: Average loss: {:.4f}, Accuracy: {}/{} ({:.4f}%)\\n'\n",
        "              .format(str,test_loss, correct, len(loader.dataset),\n",
        "                      100. * correct / len(loader.dataset)))\n",
        "    return test_loss\n",
        "\n",
        "#train_evaluator = Engine(validation_step)\n",
        "\n",
        "\n",
        "val_evaluator = create_supervised_evaluator(model, metrics=val_metrics, device=device)\n",
        "#test_evaluator = create_supervised_evaluator(model, metrics=val_metrics, device=device)\n",
        "log_interval = 200\n",
        "\n",
        "#trainer.add_event_handler(Events.EPOCH_COMPLETED, scheduler)\n",
        "train_loss = []\n",
        "val_loss = []\n"
      ]
    },
    {
      "cell_type": "code",
      "execution_count": null,
      "metadata": {
        "id": "e9IELFL8-W5T"
      },
      "outputs": [],
      "source": [
        "torch.cuda.empty_cache()\n",
        "lr_finder = FastaiLRFinder()\n",
        "to_save = {'model': model, 'optimizer': optimizer}\n",
        "with lr_finder.attach(trainer, to_save, step_mode= 'exp', end_lr=1.0) as trainer_with_lr_finder:\n",
        "    trainer_with_lr_finder.run(train_loader)"
      ]
    },
    {
      "cell_type": "code",
      "execution_count": null,
      "metadata": {
        "colab": {
          "base_uri": "https://localhost:8080/",
          "height": 300
        },
        "id": "UV3gJKhJ-XdI",
        "outputId": "db104755-9eb3-4531-c5e0-916b3c159c0c"
      },
      "outputs": [
        {
          "output_type": "display_data",
          "data": {
            "text/plain": [
              "<Figure size 432x288 with 1 Axes>"
            ],
            "image/png": "[encoded data removed]"
          },
          "metadata": {
            "needs_background": "light"
          }
        },
        {
          "output_type": "stream",
          "name": "stdout",
          "text": [
            "Suggested LR 0.001810222500608411\n"
          ]
        }
      ],
      "source": [
        "lr_finder.plot()\n",
        "print(\"Suggested LR\", lr_finder.lr_suggestion())"
      ]
    },
    {
      "cell_type": "code",
      "execution_count": null,
      "metadata": {
        "colab": {
          "base_uri": "https://localhost:8080/"
        },
        "id": "B2nJqOJs-Z8H",
        "outputId": "cd7b3218-d4d5-4a01-e433-279fa88add22"
      },
      "outputs": [
        {
          "output_type": "stream",
          "name": "stdout",
          "text": [
            "0.001810222500608411\n"
          ]
        },
        {
          "output_type": "execute_result",
          "data": {
            "text/plain": [
              "<ignite.engine.events.RemovableEventHandle at 0x7fb4d607abb0>"
            ]
          },
          "metadata": {},
          "execution_count": 15
        }
      ],
      "source": [
        "\n",
        "lr_finder.apply_suggested_lr(optimizer)\n",
        "print(optimizer.param_groups[0]['lr'])\n",
        "lr_scheduler = ExponentialLR(optimizer, gamma=0.9330329915)\n",
        "scheduler = LRScheduler(lr_scheduler)\n",
        "trainer.add_event_handler(Events.EPOCH_COMPLETED, scheduler)"
      ]
    },
    {
      "cell_type": "code",
      "execution_count": null,
      "metadata": {
        "id": "Pa7E6ke8SWEV"
      },
      "outputs": [],
      "source": [
        "@trainer.on(Events.ITERATION_COMPLETED(every=log_interval))\n",
        "def log_training_loss(engine):\n",
        "    print(f\"Epoch[{engine.state.epoch}], Iter[{engine.state.iteration}] Loss: {engine.state.output:.2f}\")\n",
        "\n",
        "@trainer.on(Events.EPOCH_COMPLETED)\n",
        "def log_training_result(trainer):\n",
        "    train_evaluator.run(train_loader)\n",
        "    metrics = train_evaluator.state.metrics\n",
        "    print(f\"Training Results - Epoch[{trainer.state.epoch}] Avg accuracy: {metrics['accuracy']:.2f} Avg loss: {metrics['loss']:.2f}\")\n",
        "    train_loss.append(metrics['loss'])\n",
        "\n",
        "@trainer.on(Events.EPOCH_COMPLETED)\n",
        "def log_validation_result(trainer):\n",
        "    val_evaluator.run(val_loader)\n",
        "    metrics = val_evaluator.state.metrics\n",
        "    print(f\"Validation Results - Epoch[{trainer.state.epoch}] Avg accuracy: {metrics['accuracy']:.2f} Avg loss: {metrics['loss']:.2f} Lr: {optimizer.param_groups[0]['lr']}\")\n",
        "    val_loss.append(metrics['loss'])"
      ]
    },
    {
      "cell_type": "code",
      "execution_count": null,
      "metadata": {
        "colab": {
          "base_uri": "https://localhost:8080/"
        },
        "id": "-ALDDokk-bcy",
        "outputId": "df81850e-dcc7-4b4b-fe4a-6d946274c386"
      },
      "outputs": [
        {
          "output_type": "stream",
          "name": "stdout",
          "text": [
            "Epoch[1], Iter[200] Loss: 1.80\n",
            "Epoch[1], Iter[400] Loss: 1.91\n",
            "Epoch[1], Iter[600] Loss: 1.84\n",
            "Epoch[1], Iter[800] Loss: 1.77\n",
            "Training Results - Epoch[1] Avg accuracy: 0.27 Avg loss: 1.76\n",
            "Validation Results - Epoch[1] Avg accuracy: 0.25 Avg loss: 1.77 Lr: 0.001810222500608411\n",
            "Epoch[2], Iter[1000] Loss: 1.82\n",
            "Epoch[2], Iter[1200] Loss: 1.82\n",
            "Epoch[2], Iter[1400] Loss: 1.83\n",
            "Epoch[2], Iter[1600] Loss: 1.81\n",
            "Training Results - Epoch[2] Avg accuracy: 0.38 Avg loss: 1.59\n",
            "Validation Results - Epoch[2] Avg accuracy: 0.40 Avg loss: 1.55 Lr: 0.0016889973150232764\n",
            "Epoch[3], Iter[1800] Loss: 1.72\n",
            "Epoch[3], Iter[2000] Loss: 1.68\n",
            "Epoch[3], Iter[2200] Loss: 1.29\n",
            "Epoch[3], Iter[2400] Loss: 1.25\n",
            "Epoch[3], Iter[2600] Loss: 1.44\n",
            "Training Results - Epoch[3] Avg accuracy: 0.46 Avg loss: 1.41\n",
            "Validation Results - Epoch[3] Avg accuracy: 0.46 Avg loss: 1.38 Lr: 0.0015758902174716355\n",
            "Epoch[4], Iter[2800] Loss: 1.45\n",
            "Epoch[4], Iter[3000] Loss: 1.53\n",
            "Epoch[4], Iter[3200] Loss: 1.30\n",
            "Epoch[4], Iter[3400] Loss: 1.07\n",
            "Training Results - Epoch[4] Avg accuracy: 0.50 Avg loss: 1.29\n",
            "Validation Results - Epoch[4] Avg accuracy: 0.52 Avg loss: 1.28 Lr: 0.0014703575638831455\n",
            "Epoch[5], Iter[3600] Loss: 1.44\n",
            "Epoch[5], Iter[3800] Loss: 1.27\n",
            "Epoch[5], Iter[4000] Loss: 1.18\n",
            "Epoch[5], Iter[4200] Loss: 1.17\n",
            "Training Results - Epoch[5] Avg accuracy: 0.53 Avg loss: 1.22\n",
            "Validation Results - Epoch[5] Avg accuracy: 0.54 Avg loss: 1.20 Lr: 0.0013718921164045435\n",
            "Epoch[6], Iter[4400] Loss: 1.26\n",
            "Epoch[6], Iter[4600] Loss: 1.74\n",
            "Epoch[6], Iter[4800] Loss: 1.31\n",
            "Epoch[6], Iter[5000] Loss: 1.01\n",
            "Epoch[6], Iter[5200] Loss: 1.19\n",
            "Training Results - Epoch[6] Avg accuracy: 0.57 Avg loss: 1.12\n",
            "Validation Results - Epoch[6] Avg accuracy: 0.57 Avg loss: 1.14 Lr: 0.0012800206053841974\n",
            "Epoch[7], Iter[5400] Loss: 1.64\n",
            "Epoch[7], Iter[5600] Loss: 1.27\n",
            "Epoch[7], Iter[5800] Loss: 1.03\n",
            "Epoch[7], Iter[6000] Loss: 1.01\n",
            "Training Results - Epoch[7] Avg accuracy: 0.58 Avg loss: 1.09\n",
            "Validation Results - Epoch[7] Avg accuracy: 0.58 Avg loss: 1.10 Lr: 0.0011943014546232586\n",
            "Epoch[8], Iter[6200] Loss: 0.77\n",
            "Epoch[8], Iter[6400] Loss: 0.85\n",
            "Epoch[8], Iter[6600] Loss: 1.05\n",
            "Epoch[8], Iter[6800] Loss: 0.93\n",
            "Training Results - Epoch[8] Avg accuracy: 0.60 Avg loss: 1.07\n",
            "Validation Results - Epoch[8] Avg accuracy: 0.58 Avg loss: 1.09 Lr: 0.0011143226589599405\n",
            "Epoch[9], Iter[7000] Loss: 1.05\n",
            "Epoch[9], Iter[7200] Loss: 1.28\n",
            "Epoch[9], Iter[7400] Loss: 1.35\n",
            "Epoch[9], Iter[7600] Loss: 1.32\n",
            "Epoch[9], Iter[7800] Loss: 1.10\n",
            "Training Results - Epoch[9] Avg accuracy: 0.62 Avg loss: 1.01\n",
            "Validation Results - Epoch[9] Avg accuracy: 0.60 Avg loss: 1.07 Lr: 0.0010396998039856275\n",
            "Epoch[10], Iter[8000] Loss: 0.89\n",
            "Epoch[10], Iter[8200] Loss: 1.30\n",
            "Epoch[10], Iter[8400] Loss: 1.10\n",
            "Epoch[10], Iter[8600] Loss: 1.13\n",
            "Training Results - Epoch[10] Avg accuracy: 0.62 Avg loss: 0.99\n",
            "Validation Results - Epoch[10] Avg accuracy: 0.61 Avg loss: 1.04 Lr: 0.0009700742183746736\n",
            "Epoch[11], Iter[8800] Loss: 1.18\n",
            "Epoch[11], Iter[9000] Loss: 0.79\n",
            "Epoch[11], Iter[9200] Loss: 0.88\n",
            "Epoch[11], Iter[9400] Loss: 0.93\n",
            "Epoch[11], Iter[9600] Loss: 0.81\n",
            "Training Results - Epoch[11] Avg accuracy: 0.57 Avg loss: 1.12\n",
            "Validation Results - Epoch[11] Avg accuracy: 0.58 Avg loss: 1.13 Lr: 0.000905111249947146\n",
            "Epoch[12], Iter[9800] Loss: 0.91\n",
            "Epoch[12], Iter[10000] Loss: 0.89\n",
            "Epoch[12], Iter[10200] Loss: 0.95\n",
            "Epoch[12], Iter[10400] Loss: 1.30\n",
            "Training Results - Epoch[12] Avg accuracy: 0.66 Avg loss: 0.92\n",
            "Validation Results - Epoch[12] Avg accuracy: 0.63 Avg loss: 1.00 Lr: 0.0008444986571784899\n",
            "Epoch[13], Iter[10600] Loss: 1.09\n",
            "Epoch[13], Iter[10800] Loss: 1.09\n",
            "Epoch[13], Iter[11000] Loss: 0.95\n",
            "Epoch[13], Iter[11200] Loss: 1.06\n",
            "Training Results - Epoch[13] Avg accuracy: 0.65 Avg loss: 0.94\n",
            "Validation Results - Epoch[13] Avg accuracy: 0.61 Avg loss: 1.02 Lr: 0.0007879451084249794\n",
            "Epoch[14], Iter[11400] Loss: 0.97\n",
            "Epoch[14], Iter[11600] Loss: 1.12\n",
            "Epoch[14], Iter[11800] Loss: 1.00\n",
            "Epoch[14], Iter[12000] Loss: 0.96\n",
            "Epoch[14], Iter[12200] Loss: 0.88\n",
            "Training Results - Epoch[14] Avg accuracy: 0.62 Avg loss: 0.99\n",
            "Validation Results - Epoch[14] Avg accuracy: 0.61 Avg loss: 1.06 Lr: 0.0007351787816515503\n",
            "Epoch[15], Iter[12400] Loss: 1.16\n",
            "Epoch[15], Iter[12600] Loss: 0.79\n",
            "Epoch[15], Iter[12800] Loss: 0.96\n",
            "Epoch[15], Iter[13000] Loss: 1.02\n",
            "Training Results - Epoch[15] Avg accuracy: 0.67 Avg loss: 0.88\n",
            "Validation Results - Epoch[15] Avg accuracy: 0.63 Avg loss: 0.99 Lr: 0.0006859460579316713\n",
            "Epoch[16], Iter[13200] Loss: 0.97\n",
            "Epoch[16], Iter[13400] Loss: 1.03\n",
            "Epoch[16], Iter[13600] Loss: 0.87\n",
            "Epoch[16], Iter[13800] Loss: 1.08\n",
            "Training Results - Epoch[16] Avg accuracy: 0.67 Avg loss: 0.87\n",
            "Validation Results - Epoch[16] Avg accuracy: 0.64 Avg loss: 1.00 Lr: 0.0006400103024396196\n",
            "Epoch[17], Iter[14000] Loss: 0.65\n",
            "Epoch[17], Iter[14200] Loss: 1.11\n",
            "Epoch[17], Iter[14400] Loss: 1.03\n",
            "Epoch[17], Iter[14600] Loss: 0.85\n",
            "Epoch[17], Iter[14800] Loss: 1.19\n",
            "Training Results - Epoch[17] Avg accuracy: 0.70 Avg loss: 0.81\n",
            "Validation Results - Epoch[17] Avg accuracy: 0.65 Avg loss: 0.95 Lr: 0.000597150727076058\n",
            "Epoch[18], Iter[15000] Loss: 0.80\n",
            "Epoch[18], Iter[15200] Loss: 0.73\n",
            "Epoch[18], Iter[15400] Loss: 1.15\n",
            "Epoch[18], Iter[15600] Loss: 0.84\n",
            "Training Results - Epoch[18] Avg accuracy: 0.71 Avg loss: 0.79\n",
            "Validation Results - Epoch[18] Avg accuracy: 0.65 Avg loss: 0.96 Lr: 0.0005571613292601744\n",
            "Epoch[19], Iter[15800] Loss: 0.93\n",
            "Epoch[19], Iter[16000] Loss: 0.72\n",
            "Epoch[19], Iter[16200] Loss: 0.60\n",
            "Epoch[19], Iter[16400] Loss: 0.96\n",
            "Training Results - Epoch[19] Avg accuracy: 0.70 Avg loss: 0.81\n",
            "Validation Results - Epoch[19] Avg accuracy: 0.64 Avg loss: 0.98 Lr: 0.000519849901787737\n",
            "Epoch[20], Iter[16600] Loss: 0.81\n",
            "Epoch[20], Iter[16800] Loss: 0.83\n",
            "Epoch[20], Iter[17000] Loss: 1.16\n",
            "Epoch[20], Iter[17200] Loss: 1.02\n",
            "Epoch[20], Iter[17400] Loss: 0.69\n",
            "Training Results - Epoch[20] Avg accuracy: 0.71 Avg loss: 0.79\n",
            "Validation Results - Epoch[20] Avg accuracy: 0.65 Avg loss: 0.96 Lr: 0.00048503710899599345\n"
          ]
        },
        {
          "output_type": "execute_result",
          "data": {
            "text/plain": [
              "State:\n",
              "\titeration: 17460\n",
              "\tepoch: 20\n",
              "\tepoch_length: 873\n",
              "\tmax_epochs: 20\n",
              "\toutput: 0.9918110370635986\n",
              "\tbatch: <class 'list'>\n",
              "\tmetrics: <class 'dict'>\n",
              "\tdataloader: <class 'torch.utils.data.dataloader.DataLoader'>\n",
              "\tseed: <class 'NoneType'>\n",
              "\ttimes: <class 'dict'>"
            ]
          },
          "metadata": {},
          "execution_count": 17
        }
      ],
      "source": [
        "trainer.run(train_loader, max_epochs=20)        "
      ]
    },
    {
      "cell_type": "code",
      "execution_count": null,
      "metadata": {
        "colab": {
          "base_uri": "https://localhost:8080/",
          "height": 350
        },
        "id": "V_qBwWCmxdsv",
        "outputId": "9a859c59-da96-48d8-94ad-f190c89def62"
      },
      "outputs": [
        {
          "output_type": "display_data",
          "data": {
            "text/plain": [
              "<Figure size 720x360 with 1 Axes>"
            ],
            "image/png": "[encoded data removed]"
          },
          "metadata": {
            "needs_background": "light"
          }
        }
      ],
      "source": [
        "plt.figure(figsize=(10,5))\n",
        "plt.title(\"Training and Validation Loss\")\n",
        "plt.plot(val_loss,label=\"val\")\n",
        "plt.plot(train_loss,label=\"train\")\n",
        "plt.xlabel(\"Epoch\")\n",
        "plt.ylabel(\"Loss\")\n",
        "plt.legend()\n",
        "plt.show()"
      ]
    },
    {
      "cell_type": "code",
      "execution_count": null,
      "metadata": {
        "colab": {
          "base_uri": "https://localhost:8080/"
        },
        "id": "0Q7wSgSc-eIT",
        "outputId": "204eeb87-b87f-407e-c3c8-9617b99b73a4"
      },
      "outputs": [
        {
          "output_type": "stream",
          "name": "stdout",
          "text": [
            "Test Results - Avg accuracy: 0.66 Avg loss: 0.92\n"
          ]
        }
      ],
      "source": [
        "val_evaluator.run(test_loader)\n",
        "metrics = val_evaluator.state.metrics\n",
        "print(f\"Test Results - Avg accuracy: {metrics['accuracy']:.2f} Avg loss: {metrics['loss']:.2f}\")"
      ]
    },
    {
      "cell_type": "code",
      "execution_count": null,
      "metadata": {
        "id": "BQxg2we5SkOr"
      },
      "outputs": [],
      "source": [
        "checkpoint = {\n",
        "    'epoch': 20 + 1,\n",
        "    'state_dict': model.state_dict(),\n",
        "    'optimizer': optimizer.state_dict()\n",
        "    #'scheduler': lr_scheduler.state_dict()\n",
        "}\n",
        "torch.save(checkpoint, 'checkpointsgd20ep.pt')"
      ]
    },
    {
      "cell_type": "code",
      "source": [],
      "metadata": {
        "id": "3BrUA1wd5zzX"
      },
      "execution_count": null,
      "outputs": []
    },
    {
      "cell_type": "code",
      "execution_count": null,
      "metadata": {
        "colab": {
          "base_uri": "https://localhost:8080/"
        },
        "id": "BaFIKYqK8sWy",
        "outputId": "9339dbd4-2e06-4ae8-9ef9-9188e1e0dedd"
      },
      "outputs": [
        {
          "data": {
            "text/plain": [
              "<ignite.engine.events.RemovableEventHandle at 0x7f5b207ac400>"
            ]
          },
          "execution_count": 18,
          "metadata": {},
          "output_type": "execute_result"
        }
      ],
      "source": [
        "optimizer = torch.optim.SGD(model.parameters(), lr= 0.00001, weight_decay= 0.0001, momentum= 0.9, nesterov = True)\n",
        "#lr_scheduler = ExponentialLR(optimizer, gamma=0.8865681506)\n",
        "#scheduler = LRScheduler(lr_scheduler)\n",
        "#trainer.add_event_handler(Events.EPOCH_COMPLETED, scheduler)"
      ]
    },
    {
      "cell_type": "code",
      "execution_count": null,
      "metadata": {
        "colab": {
          "base_uri": "https://localhost:8080/"
        },
        "id": "mzpaj-53-hmp",
        "outputId": "193edbde-cb4b-4ba9-80aa-a290bad58cbc"
      },
      "outputs": [
        {
          "output_type": "stream",
          "name": "stdout",
          "text": [
            "Epoch[21], Iter[17600] Loss: 0.80\n",
            "Epoch[21], Iter[17800] Loss: 0.71\n",
            "Epoch[21], Iter[18000] Loss: 0.61\n",
            "Epoch[21], Iter[18200] Loss: 0.68\n",
            "Training Results - Epoch[21] Avg accuracy: 0.72 Avg loss: 0.75\n",
            "Validation Results - Epoch[21] Avg accuracy: 0.65 Avg loss: 0.97 Lr: 0.00045255562479504333\n",
            "Epoch[22], Iter[18400] Loss: 0.58\n",
            "Epoch[22], Iter[18600] Loss: 0.62\n",
            "Epoch[22], Iter[18800] Loss: 1.19\n",
            "Epoch[22], Iter[19000] Loss: 0.64\n",
            "Epoch[22], Iter[19200] Loss: 0.86\n",
            "Training Results - Epoch[22] Avg accuracy: 0.74 Avg loss: 0.72\n",
            "Validation Results - Epoch[22] Avg accuracy: 0.65 Avg loss: 0.96 Lr: 0.0004222493284226708\n",
            "Epoch[23], Iter[19400] Loss: 0.73\n",
            "Epoch[23], Iter[19600] Loss: 0.78\n",
            "Epoch[23], Iter[19800] Loss: 0.73\n",
            "Epoch[23], Iter[20000] Loss: 0.66\n",
            "Training Results - Epoch[23] Avg accuracy: 0.74 Avg loss: 0.70\n",
            "Validation Results - Epoch[23] Avg accuracy: 0.66 Avg loss: 0.96 Lr: 0.0003939725540570705\n",
            "Epoch[24], Iter[20200] Loss: 0.74\n",
            "Epoch[24], Iter[20400] Loss: 0.93\n",
            "Epoch[24], Iter[20600] Loss: 1.03\n",
            "Epoch[24], Iter[20800] Loss: 0.87\n",
            "Training Results - Epoch[24] Avg accuracy: 0.76 Avg loss: 0.65\n",
            "Validation Results - Epoch[24] Avg accuracy: 0.66 Avg loss: 0.95 Lr: 0.0003675893906807639\n",
            "Epoch[25], Iter[21000] Loss: 0.82\n",
            "Epoch[25], Iter[21200] Loss: 0.77\n",
            "Epoch[25], Iter[21400] Loss: 0.43\n",
            "Epoch[25], Iter[21600] Loss: 0.73\n",
            "Epoch[25], Iter[21800] Loss: 0.90\n",
            "Training Results - Epoch[25] Avg accuracy: 0.76 Avg loss: 0.64\n",
            "Validation Results - Epoch[25] Avg accuracy: 0.66 Avg loss: 0.95 Lr: 0.0003429730288305354\n",
            "Epoch[26], Iter[22000] Loss: 0.73\n",
            "Epoch[26], Iter[22200] Loss: 1.04\n",
            "Epoch[26], Iter[22400] Loss: 0.84\n",
            "Epoch[26], Iter[22600] Loss: 0.75\n",
            "Training Results - Epoch[26] Avg accuracy: 0.79 Avg loss: 0.60\n",
            "Validation Results - Epoch[26] Avg accuracy: 0.66 Avg loss: 0.95 Lr: 0.00032000515109357016\n",
            "Epoch[27], Iter[22800] Loss: 0.65\n",
            "Epoch[27], Iter[23000] Loss: 0.43\n",
            "Epoch[27], Iter[23200] Loss: 0.69\n",
            "Epoch[27], Iter[23400] Loss: 0.95\n",
            "Training Results - Epoch[27] Avg accuracy: 0.77 Avg loss: 0.61\n",
            "Validation Results - Epoch[27] Avg accuracy: 0.66 Avg loss: 0.97 Lr: 0.00029857536342024326\n",
            "Epoch[28], Iter[23600] Loss: 0.73\n",
            "Epoch[28], Iter[23800] Loss: 0.66\n",
            "Epoch[28], Iter[24000] Loss: 0.97\n",
            "Epoch[28], Iter[24200] Loss: 0.58\n",
            "Epoch[28], Iter[24400] Loss: 0.57\n",
            "Training Results - Epoch[28] Avg accuracy: 0.80 Avg loss: 0.57\n",
            "Validation Results - Epoch[28] Avg accuracy: 0.67 Avg loss: 0.97 Lr: 0.0002785806645201892\n",
            "Epoch[29], Iter[24600] Loss: 0.41\n",
            "Epoch[29], Iter[24800] Loss: 0.77\n",
            "Epoch[29], Iter[25000] Loss: 0.87\n",
            "Epoch[29], Iter[25200] Loss: 0.94\n",
            "Training Results - Epoch[29] Avg accuracy: 0.81 Avg loss: 0.53\n",
            "Validation Results - Epoch[29] Avg accuracy: 0.67 Avg loss: 0.97 Lr: 0.00025992495079133\n",
            "Epoch[30], Iter[25400] Loss: 0.51\n",
            "Epoch[30], Iter[25600] Loss: 0.61\n",
            "Epoch[30], Iter[25800] Loss: 0.67\n",
            "Epoch[30], Iter[26000] Loss: 0.38\n",
            "Training Results - Epoch[30] Avg accuracy: 0.82 Avg loss: 0.50\n",
            "Validation Results - Epoch[30] Avg accuracy: 0.66 Avg loss: 0.99 Lr: 0.00024251855440232494\n"
          ]
        },
        {
          "output_type": "execute_result",
          "data": {
            "text/plain": [
              "State:\n",
              "\titeration: 26190\n",
              "\tepoch: 30\n",
              "\tepoch_length: 873\n",
              "\tmax_epochs: 30\n",
              "\toutput: 0.3610297441482544\n",
              "\tbatch: <class 'list'>\n",
              "\tmetrics: <class 'dict'>\n",
              "\tdataloader: <class 'torch.utils.data.dataloader.DataLoader'>\n",
              "\tseed: <class 'NoneType'>\n",
              "\ttimes: <class 'dict'>"
            ]
          },
          "metadata": {},
          "execution_count": 21
        }
      ],
      "source": [
        "trainer.run(train_loader, max_epochs=30)        #Ong co the chinh len > 50"
      ]
    },
    {
      "cell_type": "code",
      "execution_count": null,
      "metadata": {
        "colab": {
          "base_uri": "https://localhost:8080/"
        },
        "id": "7pl8wrtT-nzB",
        "outputId": "04a1e1ea-900b-4c0a-8ced-a5796d53fd3b"
      },
      "outputs": [
        {
          "output_type": "stream",
          "name": "stdout",
          "text": [
            "Test Results - Avg accuracy: 0.68 Avg loss: 0.93\n"
          ]
        }
      ],
      "source": [
        "val_evaluator.run(test_loader)\n",
        "metrics = val_evaluator.state.metrics\n",
        "print(f\"Test Results - Avg accuracy: {metrics['accuracy']:.2f} Avg loss: {metrics['loss']:.2f}\")"
      ]
    },
    {
      "cell_type": "code",
      "execution_count": null,
      "metadata": {
        "id": "-LMPtHFu-7cI"
      },
      "outputs": [],
      "source": [
        "checkpoint = {\n",
        "    'epoch': 30 + 1,\n",
        "    'state_dict': model.state_dict(),\n",
        "    'optimizer': optimizer.state_dict(),\n",
        "    'scheduler': lr_scheduler.state_dict()\n",
        "}\n",
        "torch.save(checkpoint, 'checkpointsgd30ep.pt')"
      ]
    },
    {
      "cell_type": "code",
      "source": [
        "lr_scheduler = ExponentialLR(optimizer, gamma=0.9330329915)\n",
        "scheduler = LRScheduler(lr_scheduler)\n",
        "def load_ckp(checkpoint_fpath, model, optimizer, scheduler):\n",
        "    checkpoint = torch.load(checkpoint_fpath)\n",
        "    model.load_state_dict(checkpoint['state_dict'])\n",
        "    optimizer.load_state_dict(checkpoint['optimizer'])\n",
        "    scheduler.load_state_dict(checkpoint['scheduler'])\n",
        "    return model, optimizer, checkpoint['epoch'], scheduler\n",
        "\n",
        "model, optimizer, start_epoch, lr_scheduler = load_ckp('checkpointsgd30ep.pt', model, optimizer, lr_scheduler) \n",
        "trainer.add_event_handler(Events.EPOCH_COMPLETED, scheduler)\n"
      ],
      "metadata": {
        "colab": {
          "base_uri": "https://localhost:8080/"
        },
        "id": "eaLIKAs3zyVn",
        "outputId": "f4752d97-324c-4ab1-a2d5-6e151c849c71"
      },
      "execution_count": null,
      "outputs": [
        {
          "output_type": "execute_result",
          "data": {
            "text/plain": [
              "<ignite.engine.events.RemovableEventHandle at 0x7f69c14e7190>"
            ]
          },
          "metadata": {},
          "execution_count": 14
        }
      ]
    },
    {
      "cell_type": "code",
      "source": [
        "print(optimizer.param_groups[0]['lr'])"
      ],
      "metadata": {
        "colab": {
          "base_uri": "https://localhost:8080/"
        },
        "id": "-nCY9pYl1iTd",
        "outputId": "fe57bf02-90b6-4f22-ccec-81c201022aea"
      },
      "execution_count": null,
      "outputs": [
        {
          "output_type": "stream",
          "name": "stdout",
          "text": [
            "0.00024251855440232494\n"
          ]
        }
      ]
    },
    {
      "cell_type": "code",
      "execution_count": null,
      "metadata": {
        "colab": {
          "base_uri": "https://localhost:8080/"
        },
        "id": "0KF_D7Yn_DMg",
        "outputId": "4c9f9ffe-cbfb-4bde-c433-fc6a97b524b3"
      },
      "outputs": [
        {
          "output_type": "stream",
          "name": "stderr",
          "text": [
            "/usr/local/lib/python3.8/dist-packages/torch/nn/functional.py:4289: UserWarning: Default grid_sample and affine_grid behavior has changed to align_corners=False since 1.3.0. Please specify align_corners=True if the old behavior is desired. See the documentation of grid_sample for details.\n",
            "  warnings.warn(\n",
            "/usr/local/lib/python3.8/dist-packages/torch/nn/functional.py:4227: UserWarning: Default grid_sample and affine_grid behavior has changed to align_corners=False since 1.3.0. Please specify align_corners=True if the old behavior is desired. See the documentation of grid_sample for details.\n",
            "  warnings.warn(\n"
          ]
        },
        {
          "output_type": "stream",
          "name": "stdout",
          "text": [
            "Epoch[1], Iter[200] Loss: 0.83\n",
            "Epoch[1], Iter[400] Loss: 0.51\n",
            "Epoch[1], Iter[600] Loss: 0.47\n",
            "Epoch[1], Iter[800] Loss: 0.52\n",
            "Training Results - Epoch[1] Avg accuracy: 0.83 Avg loss: 0.48\n",
            "Validation Results - Epoch[1] Avg accuracy: 0.67 Avg loss: 1.00 Lr: 0.00024251855440232494\n",
            "Epoch[2], Iter[1000] Loss: 0.57\n",
            "Epoch[2], Iter[1200] Loss: 0.36\n",
            "Epoch[2], Iter[1400] Loss: 0.43\n",
            "Epoch[2], Iter[1600] Loss: 0.39\n",
            "Training Results - Epoch[2] Avg accuracy: 0.83 Avg loss: 0.48\n",
            "Validation Results - Epoch[2] Avg accuracy: 0.68 Avg loss: 1.01 Lr: 0.00022627781230825673\n",
            "Epoch[3], Iter[1800] Loss: 0.42\n",
            "Epoch[3], Iter[2000] Loss: 0.57\n",
            "Epoch[3], Iter[2200] Loss: 0.63\n",
            "Epoch[3], Iter[2400] Loss: 0.51\n",
            "Epoch[3], Iter[2600] Loss: 0.65\n",
            "Training Results - Epoch[3] Avg accuracy: 0.84 Avg loss: 0.46\n",
            "Validation Results - Epoch[3] Avg accuracy: 0.67 Avg loss: 1.02 Lr: 0.0002111246641280483\n",
            "Epoch[4], Iter[2800] Loss: 0.48\n",
            "Epoch[4], Iter[3000] Loss: 0.34\n",
            "Epoch[4], Iter[3200] Loss: 0.44\n",
            "Epoch[4], Iter[3400] Loss: 0.39\n",
            "Training Results - Epoch[4] Avg accuracy: 0.85 Avg loss: 0.42\n",
            "Validation Results - Epoch[4] Avg accuracy: 0.66 Avg loss: 1.03 Lr: 0.00019698627695082562\n",
            "Epoch[5], Iter[3600] Loss: 0.62\n",
            "Epoch[5], Iter[3800] Loss: 0.51\n",
            "Epoch[5], Iter[4000] Loss: 0.50\n",
            "Epoch[5], Iter[4200] Loss: 0.54\n",
            "Training Results - Epoch[5] Avg accuracy: 0.87 Avg loss: 0.39\n",
            "Validation Results - Epoch[5] Avg accuracy: 0.68 Avg loss: 1.03 Lr: 0.00018379469526787632\n",
            "Epoch[6], Iter[4400] Loss: 0.30\n",
            "Epoch[6], Iter[4600] Loss: 0.41\n",
            "Epoch[6], Iter[4800] Loss: 0.38\n",
            "Epoch[6], Iter[5000] Loss: 0.52\n",
            "Epoch[6], Iter[5200] Loss: 0.51\n",
            "Training Results - Epoch[6] Avg accuracy: 0.87 Avg loss: 0.37\n",
            "Validation Results - Epoch[6] Avg accuracy: 0.67 Avg loss: 1.05 Lr: 0.00017148651434761752\n",
            "Epoch[7], Iter[5400] Loss: 0.25\n",
            "Epoch[7], Iter[5600] Loss: 0.24\n",
            "Epoch[7], Iter[5800] Loss: 0.51\n",
            "Epoch[7], Iter[6000] Loss: 0.62\n",
            "Training Results - Epoch[7] Avg accuracy: 0.88 Avg loss: 0.36\n",
            "Validation Results - Epoch[7] Avg accuracy: 0.67 Avg loss: 1.11 Lr: 0.00016000257548366524\n",
            "Epoch[8], Iter[6200] Loss: 0.38\n",
            "Epoch[8], Iter[6400] Loss: 0.41\n",
            "Epoch[8], Iter[6600] Loss: 0.38\n",
            "Epoch[8], Iter[6800] Loss: 0.34\n",
            "Training Results - Epoch[8] Avg accuracy: 0.89 Avg loss: 0.33\n",
            "Validation Results - Epoch[8] Avg accuracy: 0.67 Avg loss: 1.09 Lr: 0.00014928768165122874\n",
            "Epoch[9], Iter[7000] Loss: 0.58\n",
            "Epoch[9], Iter[7200] Loss: 0.36\n",
            "Epoch[9], Iter[7400] Loss: 0.34\n",
            "Epoch[9], Iter[7600] Loss: 0.33\n",
            "Epoch[9], Iter[7800] Loss: 0.20\n",
            "Training Results - Epoch[9] Avg accuracy: 0.89 Avg loss: 0.33\n",
            "Validation Results - Epoch[9] Avg accuracy: 0.66 Avg loss: 1.13 Lr: 0.0001392903322051456\n",
            "Epoch[10], Iter[8000] Loss: 0.41\n",
            "Epoch[10], Iter[8200] Loss: 0.79\n",
            "Epoch[10], Iter[8400] Loss: 0.67\n",
            "Epoch[10], Iter[8600] Loss: 0.38\n",
            "Training Results - Epoch[10] Avg accuracy: 0.89 Avg loss: 0.32\n",
            "Validation Results - Epoch[10] Avg accuracy: 0.67 Avg loss: 1.12 Lr: 0.0001299624753443958\n"
          ]
        },
        {
          "output_type": "execute_result",
          "data": {
            "text/plain": [
              "State:\n",
              "\titeration: 8730\n",
              "\tepoch: 10\n",
              "\tepoch_length: 873\n",
              "\tmax_epochs: 10\n",
              "\toutput: 0.27656206488609314\n",
              "\tbatch: <class 'list'>\n",
              "\tmetrics: <class 'dict'>\n",
              "\tdataloader: <class 'torch.utils.data.dataloader.DataLoader'>\n",
              "\tseed: <class 'NoneType'>\n",
              "\ttimes: <class 'dict'>"
            ]
          },
          "metadata": {},
          "execution_count": 16
        }
      ],
      "source": [
        "trainer.run(train_loader, max_epochs=10)        #Ong co the chinh len > 50"
      ]
    },
    {
      "cell_type": "code",
      "execution_count": null,
      "metadata": {
        "colab": {
          "base_uri": "https://localhost:8080/"
        },
        "id": "h0aIV326IsGy",
        "outputId": "ee7966ea-73a4-43d1-cbf9-cb17b9182568"
      },
      "outputs": [
        {
          "output_type": "stream",
          "name": "stdout",
          "text": [
            "Test Results - Avg accuracy: 0.69 Avg loss: 1.04\n"
          ]
        }
      ],
      "source": [
        "val_evaluator.run(test_loader)\n",
        "metrics = val_evaluator.state.metrics\n",
        "print(f\"Test Results - Avg accuracy: {metrics['accuracy']:.2f} Avg loss: {metrics['loss']:.2f}\")"
      ]
    },
    {
      "cell_type": "code",
      "execution_count": null,
      "metadata": {
        "id": "QuTrWh7NIljF"
      },
      "outputs": [],
      "source": [
        "checkpoint = {\n",
        "    'epoch': 40 + 1,\n",
        "    'state_dict': model.state_dict(),\n",
        "    'optimizer': optimizer.state_dict(),\n",
        "    'scheduler': lr_scheduler.state_dict()\n",
        "}\n",
        "torch.save(checkpoint, 'checkpointsgd40.pt')"
      ]
    },
    {
      "cell_type": "code",
      "source": [
        "trainer.run(train_loader, max_epochs=10)        #Ong co the chinh len > 50"
      ],
      "metadata": {
        "colab": {
          "base_uri": "https://localhost:8080/"
        },
        "id": "_ziAjWYhA6AN",
        "outputId": "b761e77e-058f-4e1e-b5f9-e3b649e34945"
      },
      "execution_count": null,
      "outputs": [
        {
          "output_type": "stream",
          "name": "stdout",
          "text": [
            "Epoch[1], Iter[200] Loss: 0.23\n",
            "Epoch[1], Iter[400] Loss: 0.46\n",
            "Epoch[1], Iter[600] Loss: 0.34\n",
            "Epoch[1], Iter[800] Loss: 0.26\n",
            "Training Results - Epoch[1] Avg accuracy: 0.90 Avg loss: 0.29\n",
            "Validation Results - Epoch[1] Avg accuracy: 0.67 Avg loss: 1.12 Lr: 0.0001212592771533266\n",
            "Epoch[2], Iter[1000] Loss: 0.38\n",
            "Epoch[2], Iter[1200] Loss: 0.34\n",
            "Epoch[2], Iter[1400] Loss: 0.25\n",
            "Epoch[2], Iter[1600] Loss: 0.26\n",
            "Training Results - Epoch[2] Avg accuracy: 0.90 Avg loss: 0.30\n",
            "Validation Results - Epoch[2] Avg accuracy: 0.67 Avg loss: 1.13 Lr: 0.00011313890610949592\n",
            "Epoch[3], Iter[1800] Loss: 0.29\n",
            "Epoch[3], Iter[2000] Loss: 0.33\n",
            "Epoch[3], Iter[2200] Loss: 0.33\n",
            "Epoch[3], Iter[2400] Loss: 0.42\n",
            "Epoch[3], Iter[2600] Loss: 0.32\n",
            "Training Results - Epoch[3] Avg accuracy: 0.92 Avg loss: 0.25\n",
            "Validation Results - Epoch[3] Avg accuracy: 0.67 Avg loss: 1.15 Lr: 0.00010556233202238061\n",
            "Epoch[4], Iter[2800] Loss: 0.26\n",
            "Epoch[4], Iter[3000] Loss: 0.36\n",
            "Epoch[4], Iter[3200] Loss: 0.27\n",
            "Epoch[4], Iter[3400] Loss: 0.40\n",
            "Training Results - Epoch[4] Avg accuracy: 0.92 Avg loss: 0.25\n",
            "Validation Results - Epoch[4] Avg accuracy: 0.67 Avg loss: 1.15 Lr: 9.849313843655801e-05\n",
            "Epoch[5], Iter[3600] Loss: 0.20\n",
            "Epoch[5], Iter[3800] Loss: 0.23\n",
            "Epoch[5], Iter[4000] Loss: 0.29\n",
            "Epoch[5], Iter[4200] Loss: 0.18\n",
            "Training Results - Epoch[5] Avg accuracy: 0.93 Avg loss: 0.23\n",
            "Validation Results - Epoch[5] Avg accuracy: 0.67 Avg loss: 1.18 Lr: 9.189734759768535e-05\n",
            "Epoch[6], Iter[4400] Loss: 0.34\n",
            "Epoch[6], Iter[4600] Loss: 0.17\n",
            "Epoch[6], Iter[4800] Loss: 0.28\n",
            "Epoch[6], Iter[5000] Loss: 0.62\n",
            "Epoch[6], Iter[5200] Loss: 0.31\n",
            "Training Results - Epoch[6] Avg accuracy: 0.93 Avg loss: 0.21\n",
            "Validation Results - Epoch[6] Avg accuracy: 0.67 Avg loss: 1.18 Lr: 8.57432571399837e-05\n",
            "Epoch[7], Iter[5400] Loss: 0.32\n",
            "Epoch[7], Iter[5600] Loss: 0.18\n",
            "Epoch[7], Iter[5800] Loss: 0.43\n",
            "Epoch[7], Iter[6000] Loss: 0.26\n",
            "Training Results - Epoch[7] Avg accuracy: 0.94 Avg loss: 0.21\n",
            "Validation Results - Epoch[7] Avg accuracy: 0.67 Avg loss: 1.21 Lr: 8.000128771027272e-05\n",
            "Epoch[8], Iter[6200] Loss: 0.26\n",
            "Epoch[8], Iter[6400] Loss: 0.25\n",
            "Epoch[8], Iter[6600] Loss: 0.21\n",
            "Epoch[8], Iter[6800] Loss: 0.31\n",
            "Training Results - Epoch[8] Avg accuracy: 0.94 Avg loss: 0.20\n",
            "Validation Results - Epoch[8] Avg accuracy: 0.67 Avg loss: 1.20 Lr: 7.464384079616793e-05\n",
            "Epoch[9], Iter[7000] Loss: 0.12\n",
            "Epoch[9], Iter[7200] Loss: 0.32\n",
            "Epoch[9], Iter[7400] Loss: 0.25\n",
            "Epoch[9], Iter[7600] Loss: 0.23\n",
            "Epoch[9], Iter[7800] Loss: 0.55\n",
            "Training Results - Epoch[9] Avg accuracy: 0.94 Avg loss: 0.19\n",
            "Validation Results - Epoch[9] Avg accuracy: 0.67 Avg loss: 1.24 Lr: 6.96451660750983e-05\n",
            "Epoch[10], Iter[8000] Loss: 0.15\n",
            "Epoch[10], Iter[8200] Loss: 0.12\n",
            "Epoch[10], Iter[8400] Loss: 0.24\n",
            "Epoch[10], Iter[8600] Loss: 0.36\n",
            "Training Results - Epoch[10] Avg accuracy: 0.94 Avg loss: 0.19\n",
            "Validation Results - Epoch[10] Avg accuracy: 0.66 Avg loss: 1.21 Lr: 6.498123764656327e-05\n"
          ]
        },
        {
          "output_type": "execute_result",
          "data": {
            "text/plain": [
              "State:\n",
              "\titeration: 8730\n",
              "\tepoch: 10\n",
              "\tepoch_length: 873\n",
              "\tmax_epochs: 10\n",
              "\toutput: 0.3706754744052887\n",
              "\tbatch: <class 'list'>\n",
              "\tmetrics: <class 'dict'>\n",
              "\tdataloader: <class 'torch.utils.data.dataloader.DataLoader'>\n",
              "\tseed: <class 'NoneType'>\n",
              "\ttimes: <class 'dict'>"
            ]
          },
          "metadata": {},
          "execution_count": 19
        }
      ]
    },
    {
      "cell_type": "code",
      "source": [
        "val_evaluator.run(test_loader)\n",
        "metrics = val_evaluator.state.metrics\n",
        "print(f\"Test Results - Avg accuracy: {metrics['accuracy']:.2f} Avg loss: {metrics['loss']:.2f}\")"
      ],
      "metadata": {
        "colab": {
          "base_uri": "https://localhost:8080/"
        },
        "id": "VJlTpapCCySK",
        "outputId": "eee0a34d-e0b2-4603-9998-c69819f15dd5"
      },
      "execution_count": null,
      "outputs": [
        {
          "output_type": "stream",
          "name": "stdout",
          "text": [
            "Test Results - Avg accuracy: 0.69 Avg loss: 1.13\n"
          ]
        }
      ]
    },
    {
      "cell_type": "code",
      "source": [
        "checkpoint = {\n",
        "    'epoch': 50 + 1,\n",
        "    'state_dict': model.state_dict(),\n",
        "    'optimizer': optimizer.state_dict(),\n",
        "    'scheduler': lr_scheduler.state_dict()\n",
        "}\n",
        "torch.save(checkpoint, 'checkpointsgd50.pt')"
      ],
      "metadata": {
        "id": "824s-wCHLlk8"
      },
      "execution_count": null,
      "outputs": []
    },
    {
      "cell_type": "code",
      "source": [
        "lr_scheduler = ExponentialLR(optimizer, gamma=0.9330329915)\n",
        "scheduler = LRScheduler(lr_scheduler)\n",
        "trainer.add_event_handler(Events.EPOCH_COMPLETED, scheduler)\n",
        "def load_ckp(checkpoint_fpath, model, optimizer, lr_scheduler):\n",
        "    checkpoint = torch.load(checkpoint_fpath)\n",
        "    model.load_state_dict(checkpoint['state_dict'])\n",
        "    optimizer.load_state_dict(checkpoint['optimizer'])\n",
        "    lr_scheduler.load_state_dict(checkpoint['scheduler'])\n",
        "    return model, optimizer, checkpoint['epoch'], lr_scheduler\n",
        "\n",
        "model, optimizer, start_epoch, lr_scheduler = load_ckp('checkpointsgd50.pt', model, optimizer, lr_scheduler) \n",
        "scheduler = LRScheduler(lr_scheduler)"
      ],
      "metadata": {
        "id": "nEW-zsZnDnF_"
      },
      "execution_count": null,
      "outputs": []
    },
    {
      "cell_type": "code",
      "source": [
        "val_evaluator.run(test_loader)\n",
        "metrics = val_evaluator.state.metrics\n",
        "print(f\"Test Results - Avg accuracy: {metrics['accuracy']:.2f} Avg loss: {metrics['loss']:.2f}\")"
      ],
      "metadata": {
        "colab": {
          "base_uri": "https://localhost:8080/"
        },
        "id": "bvcDw7aBGiLw",
        "outputId": "9bc841b3-94f1-470d-b7e7-fda9a4e67938"
      },
      "execution_count": null,
      "outputs": [
        {
          "output_type": "stream",
          "name": "stderr",
          "text": [
            "/usr/local/lib/python3.8/dist-packages/torch/nn/functional.py:4289: UserWarning: Default grid_sample and affine_grid behavior has changed to align_corners=False since 1.3.0. Please specify align_corners=True if the old behavior is desired. See the documentation of grid_sample for details.\n",
            "  warnings.warn(\n",
            "/usr/local/lib/python3.8/dist-packages/torch/nn/functional.py:4227: UserWarning: Default grid_sample and affine_grid behavior has changed to align_corners=False since 1.3.0. Please specify align_corners=True if the old behavior is desired. See the documentation of grid_sample for details.\n",
            "  warnings.warn(\n"
          ]
        },
        {
          "output_type": "stream",
          "name": "stdout",
          "text": [
            "Test Results - Avg accuracy: 0.67 Avg loss: 1.15\n"
          ]
        }
      ]
    },
    {
      "cell_type": "code",
      "source": [
        "test(test_loader, str='Test', tta=10)"
      ],
      "metadata": {
        "colab": {
          "base_uri": "https://localhost:8080/"
        },
        "id": "CNJrUc0NLlap",
        "outputId": "8e19e809-9f6d-42a6-d6a4-cb6ed23f2414"
      },
      "execution_count": null,
      "outputs": [
        {
          "output_type": "stream",
          "name": "stdout",
          "text": [
            "\n",
            "Test result: Average loss: 0.9867, Accuracy: 2520/3589 (70.2145%)\n",
            "\n"
          ]
        },
        {
          "output_type": "execute_result",
          "data": {
            "text/plain": [
              "0.9867020071997686"
            ]
          },
          "metadata": {},
          "execution_count": 19
        }
      ]
    },
    {
      "cell_type": "code",
      "source": [
        "from sklearn.metrics import confusion_matrix\n",
        "import seaborn as sn\n",
        "import pandas as pd\n",
        "import numpy as np\n",
        "\n",
        "y_pred = []\n",
        "y_true = []\n",
        "\n",
        "# iterate over test data\n",
        "for inputs, labels in test_loader:\n",
        "        inputs = inputs.to(device)\n",
        "        labels = labels.to(device)\n",
        "        output = model(inputs) # Feed Network\n",
        "\n",
        "        output = (torch.max(torch.exp(output), 1)[1]).data.cpu().numpy()\n",
        "        y_pred.extend(output) # Save Prediction\n",
        "        \n",
        "        labels = labels.data.cpu().numpy()\n",
        "        y_true.extend(labels) # Save Truth\n",
        "\n",
        "# constant for classes\n",
        "classes = ('angry', 'disgust', 'fear', 'happy', 'neutral', 'sad', 'surprise')\n",
        "\n",
        "# Build confusion matrix\n",
        "cf_matrix = confusion_matrix(y_true, y_pred)\n",
        "df_cm = pd.DataFrame(cf_matrix/np.sum(cf_matrix) *10, index = [i for i in classes],\n",
        "                     columns = [i for i in classes])\n",
        "plt.figure(figsize = (12,7))\n",
        "sn.heatmap(df_cm, annot=True)\n",
        "plt.savefig('output.png')"
      ],
      "metadata": {
        "colab": {
          "base_uri": "https://localhost:8080/",
          "height": 517
        },
        "id": "LnQs_wGjDm9s",
        "outputId": "572132ae-bee2-4bbb-c5d6-0d29c3ddac46"
      },
      "execution_count": null,
      "outputs": [
        {
          "output_type": "stream",
          "name": "stderr",
          "text": [
            "/usr/local/lib/python3.8/dist-packages/torch/nn/functional.py:4289: UserWarning: Default grid_sample and affine_grid behavior has changed to align_corners=False since 1.3.0. Please specify align_corners=True if the old behavior is desired. See the documentation of grid_sample for details.\n",
            "  warnings.warn(\n",
            "/usr/local/lib/python3.8/dist-packages/torch/nn/functional.py:4227: UserWarning: Default grid_sample and affine_grid behavior has changed to align_corners=False since 1.3.0. Please specify align_corners=True if the old behavior is desired. See the documentation of grid_sample for details.\n",
            "  warnings.warn(\n"
          ]
        },
        {
          "output_type": "display_data",
          "data": {
            "text/plain": [
              "<Figure size 864x504 with 2 Axes>"
            ],
            "image/png": "[encoded data removed]"
          },
          "metadata": {
            "needs_background": "light"
          }
        }
      ]
    },
    {
      "cell_type": "code",
      "source": [],
      "metadata": {
        "id": "NrcaTZ71Dm8L"
      },
      "execution_count": null,
      "outputs": []
    }
  ],
  "metadata": {
    "accelerator": "GPU",
    "colab": {
      "provenance": []
    },
    "gpuClass": "standard",
    "kernelspec": {
      "display_name": "Python 3",
      "name": "python3"
    },
    "language_info": {
      "name": "python"
    }
  },
  "nbformat": 4,
  "nbformat_minor": 0
}